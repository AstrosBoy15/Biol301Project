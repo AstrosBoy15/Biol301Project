{
 "cells": [
  {
   "cell_type": "code",
   "execution_count": null,
   "id": "b466dcce-75bd-4b12-9177-e38831ea7e83",
   "metadata": {},
   "outputs": [],
   "source": [
    "#imports\n",
    "import numpy as np\n",
    "from Bio import Phylo\n",
    "import pandas as pd"
   ]
  },
  {
   "cell_type": "markdown",
   "id": "b36c0417-7703-4f2e-a2c9-bec1fdacbe98",
   "metadata": {},
   "source": [
    "# Background"
   ]
  },
  {
   "cell_type": "markdown",
   "id": "9ce5bdb8-842b-4046-b037-fd7719a0a4ba",
   "metadata": {},
   "source": [
    "The purpose of this project is to investigate if codon bias is an indicator for phylogenetic relationships. If codon bias does prove to be an indicator, this could be used to increase understanding of the relationship between different organisms. A csv file containing the codon bias for many different organisms was taken from Kaggle (source?). TO make the project more manageable, rodents were selected to be the focus on the project. The data was analyzed by creating a data frame and using pandas techniques from BIOL300 such as reading in a file and indexing a data frame. To create a phylogenetic tree, the algorithm UPGMA from BIOL301 was used. "
   ]
  },
  {
   "cell_type": "markdown",
   "id": "b820c426-ee31-42fa-bdef-6b04795ffcc2",
   "metadata": {},
   "source": [
    "# Part 1 - Preparing the Data"
   ]
  },
  {
   "cell_type": "markdown",
   "id": "79dcc258-8afe-4f89-8c96-c8b14837f6c1",
   "metadata": {},
   "source": [
    "First, the csv file must be read into the file as a data frame. This was done using Pandas a skills from BIOL300. "
   ]
  },
  {
   "cell_type": "code",
   "execution_count": null,
   "id": "ad3d4fbe-10ca-42bf-8acc-afadcc6272fe",
   "metadata": {},
   "outputs": [],
   "source": [
    "#read file into a data frame\n",
    "f = open('codon_usage.csv', 'r')\n",
    "df = pd.read_csv(f);"
   ]
  },
  {
   "cell_type": "markdown",
   "id": "c9e57e38-440e-4eae-9b42-b55b1b9160c0",
   "metadata": {},
   "source": [
    "The csv files is quite large, so it was decreased in size to be more manageable. Rodents were selected as the subject of this study, so all animals labeled as in the rodent kingdom were added to a new data frame. Then, since this data included codon bias for mitochondrial DNA, that was also removed to limit the scope of this project. "
   ]
  },
  {
   "cell_type": "code",
   "execution_count": null,
   "id": "9e1cdc78-67f6-48bf-8790-9440cc1e4142",
   "metadata": {},
   "outputs": [],
   "source": [
    "#parse out only columns labeled as 'rod' (rodents)\n",
    "rodents_with_mit = df[df['Kingdom'] == 'rod']\n",
    "\n",
    "#remove the mitocondrial DNA by using the DNAtype column\n",
    "rodents = rodents_with_mit[rodents_with_mit['DNAtype'] == 0]"
   ]
  },
  {
   "cell_type": "code",
   "execution_count": null,
   "id": "d14c5e93-0c08-4df5-95e9-d624fb1d6253",
   "metadata": {},
   "outputs": [],
   "source": [
    "#limit the number of rodents and print out dataframe\n",
    "rodents = rodents[:5]\n",
    "rodents"
   ]
  },
  {
   "cell_type": "markdown",
   "id": "23be3a8b-18ec-4c71-97d1-2e9bb877c5c8",
   "metadata": {},
   "source": [
    "The csv file contained codon bias across the entire genome. It was decided to normalize these percentages for each amino acid. This removed any amino acid bias between species and focuses just on the codon bias. To accomplish this, a dictionary was created to correlate each codon to a specific amino acid (source?). Multiple checks were performed to make sure all amino acids and codons were present and there were no typos. "
   ]
  },
  {
   "cell_type": "code",
   "execution_count": null,
   "id": "c343b157-81ab-45e8-918c-05ee99fa89c6",
   "metadata": {},
   "outputs": [],
   "source": [
    "#create dictionary of amino acids and corresponding codons\n",
    "aas = {'Phe': ['UUU','UUC'], 'Leu': ['UUA','UUG','CUU','CUC','CUA','CUG'], 'Ile': ['AUU','AUC','AUA'], 'Met': ['AUG'], 'Val': ['GUU','GUC','GUA','GUG'],\n",
    "       'Ser': ['UCU','UCC','UCA','UCG','AGU','AGC'], 'Pro': ['CCU','CCC','CCA','CCG'], 'Thr': ['ACU','ACC','ACA','ACG'], 'Ala': ['GCU','GCC','GCA','GCG'], \n",
    "       'Tyr': ['UAU','UAC'], '***': ['UAA','UAG','UGA'], 'Trp': ['UGG'], 'His': ['CAU','CAC'], 'Gln': ['CAA','CAG'], 'Asn': ['AAU','AAC'], 'Lys': ['AAA','AAG'],\n",
    "       'Cys': ['UGU','UGC'], 'Arg': ['CGU','CGC','CGA','CGG','AGA','AGG'], 'Gly': ['GGU','GGC','GGA','GGG'], 'Asp': ['GAU','GAC'], 'Glu': ['GAA','GAG']}"
   ]
  },
  {
   "cell_type": "code",
   "execution_count": null,
   "id": "2897a12f-8e60-4f73-aa74-099a5a616326",
   "metadata": {},
   "outputs": [],
   "source": [
    "#check that all amino acids are in dictionary (20+stop = 21)\n",
    "len(aas)"
   ]
  },
  {
   "cell_type": "code",
   "execution_count": null,
   "id": "7ed60867-077b-44d9-a418-14fd02db359d",
   "metadata": {},
   "outputs": [],
   "source": [
    "#check that all codons are included in dictionary (should be 64)\n",
    "count = 0\n",
    "for i in aas:\n",
    "    count += len(aas[i])\n",
    "    \n",
    "print(count)"
   ]
  },
  {
   "cell_type": "markdown",
   "id": "82d86cca-b4aa-4c1c-809a-249f99d55eca",
   "metadata": {},
   "source": [
    "Once the dictionary was completed and checked, it was used to standardize by amino acid. By iterating through the dictionary, it was established how often each codon was used to create a certain amino acid for each animal. These new percentages were then added to the data frame, replacing the former percentages which accounted for the whole genome. The data frame was then printed to make sure the data frame was updated"
   ]
  },
  {
   "cell_type": "code",
   "execution_count": null,
   "id": "ee499571-c1be-4e33-b508-cf48890d3fec",
   "metadata": {},
   "outputs": [],
   "source": [
    "#standarize by amino acid\n",
    "\n",
    "#loop through each animal\n",
    "for animal in rodents['SpeciesName']:\n",
    "    species_bool = rodents['SpeciesName'] == animal\n",
    "    species = rodents[species_bool]\n",
    "    \n",
    "    #loop through all amino acids\n",
    "    for aa in aas:\n",
    "        #initalize total percent of amino acid\n",
    "        total = 0 \n",
    "        \n",
    "        #loop through codons and add up percentages\n",
    "        for codon in aas[aa]:\n",
    "            total += species[codon]\n",
    "        \n",
    "        #loop through codons, normalize by amino acid, and replace in data frame\n",
    "        for codon in aas[aa]:\n",
    "            rodents.loc[species_bool, [codon]] = species[codon]/total"
   ]
  },
  {
   "cell_type": "code",
   "execution_count": null,
   "id": "947bc2b3-f1f6-4539-b8a9-782fd7483b62",
   "metadata": {},
   "outputs": [],
   "source": [
    "#print rodents to make sure it updated \n",
    "rodents"
   ]
  },
  {
   "cell_type": "markdown",
   "id": "31b8ab10-1c7d-4600-a11e-99d93db38560",
   "metadata": {},
   "source": [
    "Once the data was cleaned and standardized by amino acid, a distance function was created to determine the distance between two species. It was decided to use a sum of squares. The squared difference between each codon was added together and the total difference returned to determine how different codon bias between species is."
   ]
  },
  {
   "cell_type": "code",
   "execution_count": null,
   "id": "11d77279-d24a-4bea-9645-87dced264010",
   "metadata": {},
   "outputs": [],
   "source": [
    "def species_diff(species1, species2):\n",
    "    # finds the difference between the codon bias of two species\n",
    "    \n",
    "    # step a counting value to 0\n",
    "    diff = 0\n",
    "    \n",
    "    animal1 = rodents[rodents['SpeciesName'] == species1]\n",
    "    animal2 = rodents[rodents['SpeciesName'] == species2]\n",
    "    \n",
    "    #loop through all amino acids\n",
    "    for aa in aas:\n",
    "        #loop through all codons\n",
    "        for codon in aas[aa]:\n",
    "            #add the squared difference between the species codon bias squared \n",
    "            diff += (animal1[codon].values[0] - animal2[codon].values[0])**2\n",
    "    \n",
    "    #return the total difference between two speices\n",
    "    return diff         "
   ]
  },
  {
   "cell_type": "markdown",
   "id": "f2594c26-5741-47bb-809d-b8d74b0c8089",
   "metadata": {},
   "source": [
    "# Part 2 - UPGMA"
   ]
  },
  {
   "cell_type": "code",
   "execution_count": null,
   "id": "a480c431-1f3a-40b8-8df8-e21a029f6e20",
   "metadata": {},
   "outputs": [],
   "source": [
    "class Node:\n",
    "    def __init__(self):\n",
    "        self.left = None\n",
    "        self.right = None\n",
    "        self.val = None"
   ]
  },
  {
   "cell_type": "code",
   "execution_count": null,
   "id": "be81063c-773d-41ca-9a5a-330d146ea277",
   "metadata": {},
   "outputs": [],
   "source": [
    "def differences(seq1, seq2):\n",
    "    '''Counts the number of pairwise differences between\n",
    "    two sequences'''\n",
    "    \n",
    "    count = 0\n",
    "    \n",
    "    for i in range(len(seq1)):\n",
    "        if seq1[i] != seq2[i]:\n",
    "            count += 1\n",
    "            \n",
    "    return count"
   ]
  },
  {
   "cell_type": "code",
   "execution_count": null,
   "id": "bea07c81-79c4-4e66-8f13-2481a8f55a4a",
   "metadata": {},
   "outputs": [],
   "source": [
    "human =   \"MVLSPADKTNVKAAWGKVGAHAGEYGAEALERMFLSFPTTKTYFPHF.DLSHGSAQVKGHGKKVADALTNAVAHVDDMPNALSALSDLHAHKLRVDPVNFKLLSHCLLVTLAAHLPAEFTPAVHASLDKFLASVSTVLTSKYR\"\n",
    "chimp =   \"MVLSPADKTNVKAAWGKVGAHAGEYGAEALERMFLSFPTTKTYFPHF.DLSHGSAQVKGHGKKVADALTNAVAHVDDMPNALSALSDLHAHKLRVDPVNFKLLSHCLLVTLAAHLPAEFTPAVHASLDKFLASVSTVLTSKYR\"\n",
    "gorilla = \".VLSPADKTNVKAAWGKVGAHAGDYGAEALERMFLSFPTTKTYFPHF.DLSHGSAQVKGHGKKVADALTNAVAHVDDMPNALSALSDLHAHKLRVDPVNFKLLSHCLLVTLAAHLPAEFTPAVHASLDKFLASVSTVLTSKYR\"\n",
    "cow =     \"MVLSAADKGNVKAAWGKVGGHAAEYGAEALERMFLSFPTTKTYFPHF.DLSHGSAQVKGHGAKVAAALTKAVEHLDDLPGALSELSDLHAHKLRVDPVNFKLLSHSLLVTLASHLPSDFTPAVHASLDKFLANVSTVLTSKYR\"\n",
    "horse =   \"MVLSAADKTNVKAAWSKVGGHAGEYGAEALERMFLGFPTTKTYFPHF.DLSHGSAQVKAHGKKVGDALTLAVGHLDDLPGALSNLSDLHAHKLRVDPVNFKLLSHCLLSTLAVHLPNDFTPAVHASLDKFLSSVSTVLTSKYR\"  \n",
    "donkey =  \"MVLSAADKTNVKAAWSKVGGNAGEFGAEALERMFLGFPTTKTYFPHF.DLSHGSAQVKAHGKKVGDALTLAVGHLDDLPGALSNLSDLHAHKLRVDPVNFKLLSHCLLSTLAVHLPNDFTPAVHASLDKFLSTVSTVLTSKYR\" \n",
    "rabbit =  \".VLSPADKTNIKTAWEKIGSHGGEYGAEAVERMFLGFPTTKTYFPHF.DFTHGSZQIKAHGKKVSEALTKAVGHLDDLPGALSTLSDLHAHKLRVDPVNFKLLSHCLLVTLANHHPSEFTPAVHASLDKFLANVSTVLTSKYR\"\n",
    "carp =    \"MSLSDKDKAAVKGLWAKISPKADDIGAEALGRMLTVYPQTKTYFAHWADLSPGSGPVKKHGKVIMGAVGDAVSKIDDLVGGLAALSELHAFKLRVDPANFKILAHNVIVVIGMLYPGDFPPEVHMSVDKFFQNLALALSEKYR\""
   ]
  },
  {
   "cell_type": "code",
   "execution_count": null,
   "id": "4014e115-a6bc-4cbd-8c69-87f0404237ff",
   "metadata": {},
   "outputs": [],
   "source": [
    "animals = [carp, cow, donkey, horse, human, gorilla, rabbit]\n",
    "nodes = [\"carp\", \"cow\", \"donkey\", \"horse\", \"human\", \"gorilla\", \"rabbit\"]"
   ]
  },
  {
   "cell_type": "code",
   "execution_count": null,
   "id": "e9ec439f-0f20-4627-a652-9f48f826ba38",
   "metadata": {},
   "outputs": [],
   "source": [
    "def create_diff_dict(animals, nodes):\n",
    "    '''Creates a matrix of differences between the given species.\n",
    "    Stored in a dictionary of dictionary based on the indices of \n",
    "    the provided list.'''\n",
    "    \n",
    "    diff_dict = {}\n",
    "\n",
    "    for i, animal1 in enumerate(nodes):\n",
    "        for j, animal2 in enumerate(nodes):\n",
    "            if(animal1 == animal2):\n",
    "                continue\n",
    "                \n",
    "            diff = differences(animals[i], animals[j])\n",
    "\n",
    "            if(not animal1 in diff_dict):\n",
    "                diff_dict[animal1] = {}\n",
    "\n",
    "            if(not animal2 in diff_dict):\n",
    "                diff_dict[animal2] = {}\n",
    "\n",
    "            diff_dict[animal1][animal2] = diff\n",
    "            diff_dict[animal2][animal1] = diff\n",
    "        \n",
    "    return diff_dict"
   ]
  },
  {
   "cell_type": "code",
   "execution_count": null,
   "id": "1173adb4-a123-453c-9166-253d750de888",
   "metadata": {},
   "outputs": [],
   "source": [
    "create_diff_dict(animals, nodes)"
   ]
  },
  {
   "cell_type": "code",
   "execution_count": null,
   "id": "bc391d05-5371-4af5-9962-068f956a97c8",
   "metadata": {},
   "outputs": [],
   "source": [
    "def pair_group(diff_dict):\n",
    "    \"\"\" given a matrix of differences, returns the indices of the closest two related organisms\"\"\"\n",
    "    \n",
    "    min_val = np.inf\n",
    "    index_1 = 0\n",
    "    index_2 = 0\n",
    "    \n",
    "    for i in diff_dict.keys():\n",
    "        for j in diff_dict[i].keys():\n",
    "            if diff_dict[i][j] < min_val:\n",
    "                min_val = diff_dict[i][j]\n",
    "                index_1 = i\n",
    "                index_2 = j\n",
    "    \n",
    "    return (index_1, index_2)"
   ]
  },
  {
   "cell_type": "code",
   "execution_count": null,
   "id": "589bcc22-d967-4e4d-8138-d641939f5621",
   "metadata": {},
   "outputs": [],
   "source": [
    "pair_group(create_diff_dict(animals, nodes))"
   ]
  },
  {
   "cell_type": "code",
   "execution_count": null,
   "id": "2d2e2fb2-983f-4c30-b68d-c84c832f2c13",
   "metadata": {
    "tags": []
   },
   "outputs": [],
   "source": [
    "def calculate_weight(tup):\n",
    "    '''Determine number of items in a nested tuple'''\n",
    "    if(type(tup) != tuple):\n",
    "        return 1\n",
    "    \n",
    "    num_values = 0\n",
    "    \n",
    "    for i in tup:\n",
    "        if type(i) == tuple:\n",
    "            num_values += calculate_weight(i)\n",
    "        else:\n",
    "            num_values += 1\n",
    "            \n",
    "    return num_values"
   ]
  },
  {
   "cell_type": "code",
   "execution_count": null,
   "id": "cc9773e5-74db-4257-9649-71a308a1ab43",
   "metadata": {},
   "outputs": [],
   "source": [
    "def get_distance_to_farthest_node(root):\n",
    "    if(root.right == None):\n",
    "        return 0\n",
    "    \n",
    "    return root.right[1] + get_distance_to_farthest_node(root.right[0])"
   ]
  },
  {
   "cell_type": "code",
   "execution_count": null,
   "id": "f5f39093-4af1-4a00-b265-2b998eb26b88",
   "metadata": {},
   "outputs": [],
   "source": [
    "def generate_phylogenetic_tree(diff_dict):\n",
    "    '''Creates a phylogentic tree from a list of sequences'''\n",
    "    \n",
    "    # Create the dictionary of nodes for the phylogentic tree creation\n",
    "    node_dict = {}\n",
    "\n",
    "    for species in diff_dict:\n",
    "        node = Node()\n",
    "        node.val = species\n",
    "        node_dict[species] = node\n",
    "\n",
    "    # Apply UPGMA until all nodes have been combined\n",
    "    while(len(diff_dict.keys()) > 1):\n",
    "        # Get most related nodes\n",
    "        (animal_1, animal_2) = pair_group(diff_dict)\n",
    "        \n",
    "        # Add a new row for the new node\n",
    "        new_node = (animal_1, animal_2)\n",
    "        diff_dict[new_node] = {}\n",
    "        \n",
    "        distance = diff_dict[animal_1][animal_2]\n",
    "        \n",
    "        node = Node()\n",
    "        node.val = new_node\n",
    "        node.left = (node_dict[animal_1], distance / 2 - get_distance_to_farthest_node(node_dict[animal_1]))\n",
    "        node.right = (node_dict[animal_2], distance / 2 - get_distance_to_farthest_node(node_dict[animal_2]))\n",
    "        \n",
    "        node_dict.pop(animal_1)\n",
    "        node_dict.pop(animal_2)\n",
    "        node_dict[new_node] = node\n",
    "        \n",
    "        # Delete node pairs from dictionary\n",
    "        diff_dict[animal_1].pop(animal_2)\n",
    "        diff_dict[animal_2].pop(animal_1)\n",
    "\n",
    "\n",
    "        # Calculate the weights for the arithmetic mean\n",
    "        weight1 = calculate_weight(animal_1)\n",
    "        weight2 = calculate_weight(animal_2)\n",
    "\n",
    "        # Populate new node's row\n",
    "        for i in diff_dict[animal_1].keys():\n",
    "            diff_dict[new_node][i] = (weight1 * diff_dict[animal_1][i] + weight2 * diff_dict[animal_2][i]) / (weight1 + weight2)\n",
    "\n",
    "        # Delete old nodes' rows\n",
    "        diff_dict.pop(animal_1)\n",
    "        diff_dict.pop(animal_2)\n",
    "\n",
    "        # Update remaining nodes' distances to the newly added node and delete the remaining\n",
    "        # references to the old nodes\n",
    "        for i in diff_dict.keys():\n",
    "            if(i != new_node):\n",
    "                diff_dict[i][new_node] = (weight1 * diff_dict[i][animal_1] + weight2 * diff_dict[i][animal_2]) / (weight1 + weight2)\n",
    "                \n",
    "                diff_dict[i].pop(animal_1)\n",
    "                diff_dict[i].pop(animal_2)\n",
    "    \n",
    "    # The last created node is the completed tree\n",
    "    return node"
   ]
  },
  {
   "cell_type": "code",
   "execution_count": null,
   "id": "a580249b-faea-4f4a-a873-818a9d2074ce",
   "metadata": {},
   "outputs": [],
   "source": [
    "def create_tree(tree, nodes):\n",
    "    '''Generates a string based tree from a list of indices given a list of strings\n",
    "    to map the indices to'''\n",
    "    \n",
    "    out = [0, 0]\n",
    "    for i in range(len(tree)):\n",
    "        if type(tree[i]) == tuple:\n",
    "            out[i] = create_tree(tree[i], nodes)\n",
    "        else:\n",
    "            out[i] = nodes[tree[i]]\n",
    "            \n",
    "    return tuple(out)"
   ]
  },
  {
   "cell_type": "code",
   "execution_count": null,
   "id": "a4418c0e-87ba-47a5-979b-ff1fea1f537c",
   "metadata": {},
   "outputs": [],
   "source": [
    "# Create matrix of differences\n",
    "diff_dict = create_diff_dict(animals, nodes)\n",
    "\n",
    "# Create Node based tree\n",
    "index_tree = generate_phylogenetic_tree(diff_dict)\n",
    "index_tree.val"
   ]
  },
  {
   "cell_type": "code",
   "execution_count": null,
   "id": "2ebde38f-25c8-4b8c-ad60-b5d430968ee6",
   "metadata": {},
   "outputs": [],
   "source": [
    "def write_tree_xml(root, filename):\n",
    "    with open(filename + '.xml', 'w') as f:\n",
    "        f.write('<?xml version=\"1.0\" encoding=\"UTF-8\"?>\\n')\n",
    "        f.write('<phyloxml xmlns:xsi=\"http://www.w3.org/2001/XMLSchema-instance\" xsi:schemaLocation=\"http://www.phyloxml.org http://www.phyloxml.org/1.10/phyloxml.xsd\" xmlns=\"http://www.phyloxml.org\">\\n')\n",
    "        f.write('<phylogeny rooted=\"true\">\\n')\n",
    "        f.write('<clade>')\n",
    "        \n",
    "        write_tree_recursive(root, f)\n",
    "        \n",
    "        f.write('</clade>\\n')\n",
    "        f.write('</phylogeny>\\n')\n",
    "        f.write('</phyloxml>\\n')"
   ]
  },
  {
   "cell_type": "code",
   "execution_count": null,
   "id": "3f1c265c-4f87-4123-8cb1-7bb173f750fa",
   "metadata": {},
   "outputs": [],
   "source": [
    "def write_tree_recursive(root, f):\n",
    "    if(root.right == None):\n",
    "        f.write('<name>' + root.val + '</name>\\n')\n",
    "        return\n",
    "    \n",
    "    f.write('<clade branch_length=\"' + str(root.right[1]) + '\">\\n')\n",
    "    write_tree_recursive(root.right[0], f)\n",
    "    f.write('</clade>\\n')\n",
    "    \n",
    "    f.write('<clade branch_length=\"' + str(root.left[1]) + '\">\\n')\n",
    "    write_tree_recursive(root.left[0], f)\n",
    "    f.write('</clade>\\n')"
   ]
  },
  {
   "cell_type": "code",
   "execution_count": null,
   "id": "a8ca48a2-f205-4aed-b78c-9c7656b21a6b",
   "metadata": {},
   "outputs": [],
   "source": [
    "# Generate PhyloXML file\n",
    "write_tree_xml(index_tree, 'test_tree')\n",
    "\n",
    "# Load and visualize phylogenetic tree\n",
    "tree = Phylo.read('test_tree.xml', 'phyloxml')\n",
    "tree.ladderize()\n",
    "Phylo.draw(tree)"
   ]
  },
  {
   "cell_type": "markdown",
   "id": "5caca769-f6ba-443d-a638-86d673ee3f84",
   "metadata": {},
   "source": [
    "# Part 3 - Creating a Tree of Rodents"
   ]
  },
  {
   "cell_type": "code",
   "execution_count": null,
   "id": "775be81a-febd-41c1-902f-c71b2334fb40",
   "metadata": {},
   "outputs": [],
   "source": [
    "def create_diff_codon_dict(df):\n",
    "    diff_dict = {}\n",
    "    \n",
    "    for species1 in df['SpeciesName'].unique():\n",
    "        for species2 in df['SpeciesName'].unique():\n",
    "    \n",
    "            if(species1 == species2):\n",
    "                continue\n",
    "\n",
    "            diff = species_diff(species1, species2)\n",
    "\n",
    "            if(not species1 in diff_dict):\n",
    "                diff_dict[species1] = {}\n",
    "\n",
    "            if(not species2 in diff_dict):\n",
    "                diff_dict[species2] = {}\n",
    "\n",
    "            diff_dict[species1][species2] = diff\n",
    "            diff_dict[species2][species1] = diff\n",
    "        \n",
    "    return diff_dict"
   ]
  },
  {
   "cell_type": "code",
   "execution_count": null,
   "id": "aa6500e4-0fbe-4335-9c2b-0a9e0a89dc56",
   "metadata": {},
   "outputs": [],
   "source": [
    "create_diff_codon_dict(rodents)"
   ]
  },
  {
   "cell_type": "code",
   "execution_count": null,
   "id": "d54bc6bc-a130-46ca-9137-bfc9c18b46be",
   "metadata": {},
   "outputs": [],
   "source": [
    "# Create matrix of differences\n",
    "diff_dict = create_diff_codon_dict(rodents)\n",
    "\n",
    "# Create Node based tree\n",
    "index_tree = generate_phylogenetic_tree(diff_dict)\n",
    "\n",
    "# Generate PhyloXML file\n",
    "write_tree_xml(index_tree, 'rodent_tree')\n",
    "\n",
    "# Load and visualize phylogenetic tree\n",
    "tree = Phylo.read('rodent_tree.xml', 'phyloxml')\n",
    "tree.ladderize()\n",
    "Phylo.draw(tree)"
   ]
  },
  {
   "cell_type": "markdown",
   "id": "f6589dfb-ba8d-4380-9c3c-bdd618153169",
   "metadata": {},
   "source": [
    "# Results and Discussion"
   ]
  },
  {
   "cell_type": "markdown",
   "id": "a321d8ae-d9d9-475d-a496-eff1711a48db",
   "metadata": {},
   "source": [
    "# Next Steps"
   ]
  },
  {
   "cell_type": "code",
   "execution_count": null,
   "id": "6b7b551b-7e34-4a62-8bf4-cb005ed2a03e",
   "metadata": {},
   "outputs": [],
   "source": []
  }
 ],
 "metadata": {
  "kernelspec": {
   "display_name": "Python 3 (ipykernel)",
   "language": "python",
   "name": "python3"
  },
  "language_info": {
   "codemirror_mode": {
    "name": "ipython",
    "version": 3
   },
   "file_extension": ".py",
   "mimetype": "text/x-python",
   "name": "python",
   "nbconvert_exporter": "python",
   "pygments_lexer": "ipython3",
   "version": "3.9.12"
  }
 },
 "nbformat": 4,
 "nbformat_minor": 5
}
