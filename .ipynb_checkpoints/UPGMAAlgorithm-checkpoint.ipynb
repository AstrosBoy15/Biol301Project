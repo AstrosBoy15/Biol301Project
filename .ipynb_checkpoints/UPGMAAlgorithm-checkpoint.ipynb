{
 "cells": [
  {
   "cell_type": "code",
   "execution_count": 53,
   "id": "aff10da4-b506-403e-8e97-49c771053e0a",
   "metadata": {},
   "outputs": [],
   "source": [
    "import numpy as np\n",
    "from Bio import Phylo"
   ]
  },
  {
   "cell_type": "code",
   "execution_count": 2,
   "id": "74960b86-d72a-427d-bc39-dc412191b1e3",
   "metadata": {},
   "outputs": [],
   "source": [
    "class Node:\n",
    "    def __init__(self):\n",
    "        self.left = None\n",
    "        self.right = None\n",
    "        self.val = None"
   ]
  },
  {
   "cell_type": "markdown",
   "id": "4af8c8a8-eebf-442f-ad45-b4e0b08b92e8",
   "metadata": {},
   "source": [
    "Some functions that we might want to use: "
   ]
  },
  {
   "cell_type": "code",
   "execution_count": 3,
   "id": "caf0fc60-0cbf-41e1-91cf-96071d6660cf",
   "metadata": {},
   "outputs": [],
   "source": [
    "def differences(seq1, seq2):\n",
    "    '''Counts the number of pairwise differences between\n",
    "    two sequences'''\n",
    "    \n",
    "    count = 0\n",
    "    \n",
    "    for i in range(len(seq1)):\n",
    "        if seq1[i] != seq2[i]:\n",
    "            count += 1\n",
    "            \n",
    "    return count"
   ]
  },
  {
   "cell_type": "markdown",
   "id": "6011a3cc-7650-42b6-8712-f46359c0be64",
   "metadata": {},
   "source": [
    "The sequences we want to compare:"
   ]
  },
  {
   "cell_type": "code",
   "execution_count": 4,
   "id": "36435633-7d9d-4d14-8068-082f4eab7754",
   "metadata": {},
   "outputs": [],
   "source": [
    "human =   \"MVLSPADKTNVKAAWGKVGAHAGEYGAEALERMFLSFPTTKTYFPHF.DLSHGSAQVKGHGKKVADALTNAVAHVDDMPNALSALSDLHAHKLRVDPVNFKLLSHCLLVTLAAHLPAEFTPAVHASLDKFLASVSTVLTSKYR\"\n",
    "chimp =   \"MVLSPADKTNVKAAWGKVGAHAGEYGAEALERMFLSFPTTKTYFPHF.DLSHGSAQVKGHGKKVADALTNAVAHVDDMPNALSALSDLHAHKLRVDPVNFKLLSHCLLVTLAAHLPAEFTPAVHASLDKFLASVSTVLTSKYR\"\n",
    "gorilla = \".VLSPADKTNVKAAWGKVGAHAGDYGAEALERMFLSFPTTKTYFPHF.DLSHGSAQVKGHGKKVADALTNAVAHVDDMPNALSALSDLHAHKLRVDPVNFKLLSHCLLVTLAAHLPAEFTPAVHASLDKFLASVSTVLTSKYR\"\n",
    "cow =     \"MVLSAADKGNVKAAWGKVGGHAAEYGAEALERMFLSFPTTKTYFPHF.DLSHGSAQVKGHGAKVAAALTKAVEHLDDLPGALSELSDLHAHKLRVDPVNFKLLSHSLLVTLASHLPSDFTPAVHASLDKFLANVSTVLTSKYR\"\n",
    "horse =   \"MVLSAADKTNVKAAWSKVGGHAGEYGAEALERMFLGFPTTKTYFPHF.DLSHGSAQVKAHGKKVGDALTLAVGHLDDLPGALSNLSDLHAHKLRVDPVNFKLLSHCLLSTLAVHLPNDFTPAVHASLDKFLSSVSTVLTSKYR\"  \n",
    "donkey =  \"MVLSAADKTNVKAAWSKVGGNAGEFGAEALERMFLGFPTTKTYFPHF.DLSHGSAQVKAHGKKVGDALTLAVGHLDDLPGALSNLSDLHAHKLRVDPVNFKLLSHCLLSTLAVHLPNDFTPAVHASLDKFLSTVSTVLTSKYR\" \n",
    "rabbit =  \".VLSPADKTNIKTAWEKIGSHGGEYGAEAVERMFLGFPTTKTYFPHF.DFTHGSZQIKAHGKKVSEALTKAVGHLDDLPGALSTLSDLHAHKLRVDPVNFKLLSHCLLVTLANHHPSEFTPAVHASLDKFLANVSTVLTSKYR\"\n",
    "carp =    \"MSLSDKDKAAVKGLWAKISPKADDIGAEALGRMLTVYPQTKTYFAHWADLSPGSGPVKKHGKVIMGAVGDAVSKIDDLVGGLAALSELHAFKLRVDPANFKILAHNVIVVIGMLYPGDFPPEVHMSVDKFFQNLALALSEKYR\""
   ]
  },
  {
   "cell_type": "code",
   "execution_count": 5,
   "id": "d2ecbce7-6176-453d-ab11-3a1ffb9570e8",
   "metadata": {},
   "outputs": [],
   "source": [
    "animals = [carp, cow, donkey, horse, human, gorilla, rabbit]\n",
    "nodes = [\"carp\", \"cow\", \"donkey\", \"horse\", \"human\", \"gorilla\", \"rabbit\"]"
   ]
  },
  {
   "cell_type": "markdown",
   "id": "396b142f-5986-421f-b638-13d6e28fede2",
   "metadata": {},
   "source": [
    "## Step 1: Make a dictionary of differences"
   ]
  },
  {
   "cell_type": "code",
   "execution_count": 6,
   "id": "93c46693-47ab-4506-890c-92417ed47986",
   "metadata": {},
   "outputs": [],
   "source": [
    "def create_diff_dict(animals):\n",
    "    '''Creates a matrix of differences between the given species.\n",
    "    Stored in a dictionary of dictionary based on the indices of \n",
    "    the provided list.'''\n",
    "    \n",
    "    diff_dict = {}\n",
    "\n",
    "    for i in range(len(animals)):\n",
    "        for j in range(i+1, len(animals)):\n",
    "            diff = differences(animals[i], animals[j])\n",
    "\n",
    "            if(not i in diff_dict):\n",
    "                diff_dict[i] = {}\n",
    "\n",
    "            if(not j in diff_dict):\n",
    "                diff_dict[j] = {}\n",
    "\n",
    "            diff_dict[i][j] = diff\n",
    "            diff_dict[j][i] = diff\n",
    "        \n",
    "    return diff_dict"
   ]
  },
  {
   "cell_type": "code",
   "execution_count": 7,
   "id": "35d4854c-5804-4706-a624-ca670d1cfa32",
   "metadata": {},
   "outputs": [
    {
     "data": {
      "text/plain": [
       "{0: {1: 70, 2: 71, 3: 71, 4: 72, 5: 72, 6: 76},\n",
       " 1: {0: 70, 2: 19, 3: 17, 4: 17, 5: 19, 6: 26},\n",
       " 2: {0: 71, 1: 19, 3: 3, 4: 20, 5: 22, 6: 26},\n",
       " 3: {0: 71, 1: 17, 2: 3, 4: 17, 5: 19, 6: 24},\n",
       " 4: {0: 72, 1: 17, 2: 20, 3: 17, 5: 2, 6: 26},\n",
       " 5: {0: 72, 1: 19, 2: 22, 3: 19, 4: 2, 6: 26},\n",
       " 6: {0: 76, 1: 26, 2: 26, 3: 24, 4: 26, 5: 26}}"
      ]
     },
     "execution_count": 7,
     "metadata": {},
     "output_type": "execute_result"
    }
   ],
   "source": [
    "create_diff_dict(animals)"
   ]
  },
  {
   "cell_type": "markdown",
   "id": "ddf2a4cc-e51c-4c5c-a4f9-28e81f6185a3",
   "metadata": {},
   "source": [
    "## Step 2: Write a function that finds the two closest related organisms (i.e. a pair group)\n",
    "\n",
    "\n",
    "Your function should return the indices of the two most closely related organisms (i.e. 3 and 5). Make sure that it returns two unique values!"
   ]
  },
  {
   "cell_type": "code",
   "execution_count": 8,
   "id": "faeb3c37-bab3-4876-9764-f9de9988caef",
   "metadata": {},
   "outputs": [],
   "source": [
    "def pair_group(diff_dict):\n",
    "    \"\"\" given a matrix of differences, returns the indices of the closest two related organisms\"\"\"\n",
    "    \n",
    "    min_val = np.inf\n",
    "    index_1 = 0\n",
    "    index_2 = 0\n",
    "    \n",
    "    for i in diff_dict.keys():\n",
    "        for j in diff_dict[i].keys():\n",
    "            if diff_dict[i][j] < min_val:\n",
    "                min_val = diff_dict[i][j]\n",
    "                index_1 = i\n",
    "                index_2 = j\n",
    "    \n",
    "    return (index_1, index_2)"
   ]
  },
  {
   "cell_type": "code",
   "execution_count": 9,
   "id": "3b0d7526-3558-4c8f-bd10-5a637e731081",
   "metadata": {},
   "outputs": [
    {
     "data": {
      "text/plain": [
       "(4, 5)"
      ]
     },
     "execution_count": 9,
     "metadata": {},
     "output_type": "execute_result"
    }
   ],
   "source": [
    "pair_group(create_diff_dict(animals))"
   ]
  },
  {
   "cell_type": "markdown",
   "id": "4f775fec-62a1-4094-9320-4643cf324404",
   "metadata": {},
   "source": [
    "## Step 3: With a pair-group in hand, let's update our differences dictionary and nodes"
   ]
  },
  {
   "cell_type": "code",
   "execution_count": 10,
   "id": "9fa6614b-25df-4644-b4ad-364810cdc772",
   "metadata": {
    "tags": []
   },
   "outputs": [],
   "source": [
    "def calculate_weight(tup):\n",
    "    '''Determine number of items in a nested tuple'''\n",
    "    if(type(tup) == int):\n",
    "        return 1\n",
    "    \n",
    "    num_values = 0\n",
    "    \n",
    "    for i in tup:\n",
    "        if type(i) == tuple:\n",
    "            num_values += calculate_weight(i)\n",
    "        else:\n",
    "            num_values += 1\n",
    "            \n",
    "    return num_values"
   ]
  },
  {
   "cell_type": "code",
   "execution_count": 19,
   "id": "9ddada43-244a-4726-9dde-5baf48bc893a",
   "metadata": {},
   "outputs": [],
   "source": [
    "def get_distance_to_farthest_node(root):\n",
    "    if(root.right == None):\n",
    "        return 0\n",
    "    \n",
    "    return root.right[1] + get_distance_to_farthest_node(root.right[0])"
   ]
  },
  {
   "cell_type": "code",
   "execution_count": 74,
   "id": "8e79ea41-22ae-459e-89d3-7dbcc1a7e28d",
   "metadata": {},
   "outputs": [],
   "source": [
    "def generate_phylogenetic_tree(animals):\n",
    "    '''Creates a phylogentic tree from a list of sequences'''\n",
    "    \n",
    "    # Create matrix of differences\n",
    "    diff_dict = create_diff_dict(animals)\n",
    "\n",
    "    # Apply UPGMA until all nodes have been combined\n",
    "    while(len(diff_dict.keys()) > 1):\n",
    "        # Get most related nodes\n",
    "        (animal_1, animal_2) = pair_group(diff_dict)\n",
    "        \n",
    "        # Add a new row for the new node\n",
    "        new_node = (animal_1, animal_2)\n",
    "        diff_dict[new_node] = {}\n",
    "        \n",
    "        distance = diff_dict[animal_1][animal_2]\n",
    "        \n",
    "        node = Node()\n",
    "        node.val = new_node\n",
    "        node.left = (node_dict[animal_1], distance / 2 - get_distance_to_farthest_node(node_dict[animal_1]))\n",
    "        node.right = (node_dict[animal_2], distance / 2 - get_distance_to_farthest_node(node_dict[animal_2]))\n",
    "        \n",
    "        node_dict.pop(animal_1)\n",
    "        node_dict.pop(animal_2)\n",
    "        node_dict[new_node] = node\n",
    "        \n",
    "        # Delete node pairs from dictionary\n",
    "        diff_dict[animal_1].pop(animal_2)\n",
    "        diff_dict[animal_2].pop(animal_1)\n",
    "\n",
    "\n",
    "        # Calculate the weights for the arithmetic mean\n",
    "        weight1 = calculate_weight(animal_1)\n",
    "        weight2 = calculate_weight(animal_2)\n",
    "\n",
    "        # Populate new node's row\n",
    "        for i in diff_dict[animal_1].keys():\n",
    "            diff_dict[new_node][i] = (weight1 * diff_dict[animal_1][i] + weight2 * diff_dict[animal_2][i]) / (weight1 + weight2)\n",
    "\n",
    "        # Delete old nodes' rows\n",
    "        diff_dict.pop(animal_1)\n",
    "        diff_dict.pop(animal_2)\n",
    "\n",
    "        # Update remaining nodes' distances to the newly added node and delete the remaining\n",
    "        # references to the old nodes\n",
    "        for i in diff_dict.keys():\n",
    "            if(i != new_node):\n",
    "                diff_dict[i][new_node] = (weight1 * diff_dict[i][animal_1] + weight2 * diff_dict[i][animal_2]) / (weight1 + weight2)\n",
    "                \n",
    "                diff_dict[i].pop(animal_1)\n",
    "                diff_dict[i].pop(animal_2)\n",
    "    \n",
    "    # The last created node is the completed tree\n",
    "    return new_node"
   ]
  },
  {
   "cell_type": "code",
   "execution_count": 81,
   "id": "5cb24e8a-11d9-4da4-b103-b1779b98fd54",
   "metadata": {},
   "outputs": [],
   "source": [
    "def create_tree(tree, nodes):\n",
    "    '''Generates a string based tree from a list of indices given a list of strings\n",
    "    to map the indices to'''\n",
    "    \n",
    "    out = [0, 0]\n",
    "    for i in range(len(tree)):\n",
    "        if type(tree[i]) == tuple:\n",
    "            out[i] = create_tree(tree[i], nodes)\n",
    "        else:\n",
    "            out[i] = nodes[tree[i]]\n",
    "            \n",
    "    return tuple(out)"
   ]
  },
  {
   "cell_type": "code",
   "execution_count": 82,
   "id": "994d4ea4-0d7e-4ff1-ba5c-61b8c6c62ce9",
   "metadata": {},
   "outputs": [
    {
     "data": {
      "text/plain": [
       "('carp', ('rabbit', (('donkey', 'horse'), ('cow', ('human', 'gorilla')))))"
      ]
     },
     "execution_count": 82,
     "metadata": {},
     "output_type": "execute_result"
    }
   ],
   "source": [
    "index_tree = generate_phylogenetic_tree(animals)\n",
    "create_tree(index_tree, nodes)"
   ]
  },
  {
   "cell_type": "markdown",
   "id": "49f79899-6943-48bf-8102-d441ad663d55",
   "metadata": {},
   "source": [
    "This tree gives the same result shown in class. The cow is placed closest to the human and gorilla, which is the correct placement."
   ]
  },
  {
   "cell_type": "code",
   "execution_count": 80,
   "id": "98e000b0-372b-4bfb-935f-406763d6bcd9",
   "metadata": {},
   "outputs": [
    {
     "data": {
      "text/plain": [
       "{0: <__main__.Node at 0x231dc233e80>,\n",
       " 1: <__main__.Node at 0x231dc1a2dc0>,\n",
       " 2: <__main__.Node at 0x231dc1a2820>,\n",
       " 3: <__main__.Node at 0x231dc2852b0>,\n",
       " 4: <__main__.Node at 0x231dc285340>,\n",
       " 5: <__main__.Node at 0x231dc285ee0>,\n",
       " 6: <__main__.Node at 0x231dc2850a0>}"
      ]
     },
     "execution_count": 80,
     "metadata": {},
     "output_type": "execute_result"
    }
   ],
   "source": [
    "node_dict = {}\n",
    "\n",
    "for i in range(len(animals)):\n",
    "    node = Node()\n",
    "    node.val = i\n",
    "    node_dict[i] = node\n",
    "\n",
    "node_dict"
   ]
  },
  {
   "cell_type": "code",
   "execution_count": 83,
   "id": "6c18b8a5-3571-43a1-abee-1dce8ae9c4dc",
   "metadata": {},
   "outputs": [
    {
     "data": {
      "text/plain": [
       "{(0, (6, ((2, 3), (1, (4, 5))))): <__main__.Node at 0x231dc242820>}"
      ]
     },
     "execution_count": 83,
     "metadata": {},
     "output_type": "execute_result"
    }
   ],
   "source": [
    "node_dict"
   ]
  },
  {
   "cell_type": "code",
   "execution_count": 84,
   "id": "d9e2c5b3-5e95-4960-a2d2-0d003427158f",
   "metadata": {},
   "outputs": [],
   "source": [
    "node = node_dict[(0, (6, ((2, 3), (1, (4, 5)))))]"
   ]
  },
  {
   "cell_type": "code",
   "execution_count": 85,
   "id": "467572c2-11c1-4d80-b997-d50a39d4dbb2",
   "metadata": {},
   "outputs": [
    {
     "name": "stdout",
     "output_type": "stream",
     "text": [
      "(0, (6, ((2, 3), (1, (4, 5)))))\n",
      "23.2\n",
      "(6, ((2, 3), (1, (4, 5))))\n",
      "3.3000000000000007\n",
      "((2, 3), (1, (4, 5)))\n",
      "0.5\n",
      "(1, (4, 5))\n",
      "8.0\n",
      "(4, 5)\n",
      "1.0\n"
     ]
    }
   ],
   "source": [
    "while(node.right != None):\n",
    "    print(node.val)\n",
    "    print(node.right[1])\n",
    "    node = node.right[0]"
   ]
  },
  {
   "cell_type": "code",
   "execution_count": 86,
   "id": "d94f0e05-6279-4490-aa8e-819f3aecd9a3",
   "metadata": {},
   "outputs": [],
   "source": [
    "def write_tree_xml(root):\n",
    "    with open('phylo_tree.xml', 'w') as f:\n",
    "        f.write('<?xml version=\"1.0\" encoding=\"UTF-8\"?>\\n')\n",
    "        f.write('<phyloxml xmlns:xsi=\"http://www.w3.org/2001/XMLSchema-instance\" xsi:schemaLocation=\"http://www.phyloxml.org http://www.phyloxml.org/1.10/phyloxml.xsd\" xmlns=\"http://www.phyloxml.org\">\\n')\n",
    "        f.write('<phylogeny rooted=\"true\">\\n')\n",
    "        f.write('<clade>')\n",
    "        \n",
    "        write_tree_recursive(root, f)\n",
    "        \n",
    "        f.write('</clade>\\n')\n",
    "        f.write('</phylogeny>\\n')\n",
    "        f.write('</phyloxml>\\n')"
   ]
  },
  {
   "cell_type": "code",
   "execution_count": 91,
   "id": "ea3a8b5e-fb80-499f-bc1f-3cac845c6b7c",
   "metadata": {},
   "outputs": [],
   "source": [
    "def write_tree_recursive(root, f):\n",
    "    if(root.right == None):\n",
    "        f.write('<name>' + str(nodes[root.val]) + '</name>\\n')\n",
    "        return\n",
    "    \n",
    "    f.write('<clade branch_length=\"' + str(root.right[1]) + '\">\\n')\n",
    "    write_tree_recursive(root.right[0], f)\n",
    "    f.write('</clade>\\n')\n",
    "    \n",
    "    f.write('<clade branch_length=\"' + str(root.left[1]) + '\">\\n')\n",
    "    write_tree_recursive(root.left[0], f)\n",
    "    f.write('</clade>\\n')"
   ]
  },
  {
   "cell_type": "code",
   "execution_count": 92,
   "id": "4ce7671e-616a-41f9-83d7-1cf7e5b14516",
   "metadata": {},
   "outputs": [],
   "source": [
    "node = node_dict[(0, (6, ((2, 3), (1, (4, 5)))))]\n",
    "write_tree_xml(node)"
   ]
  },
  {
   "cell_type": "code",
   "execution_count": 93,
   "id": "b5c83f1a-670f-4a1b-9193-106b70091f77",
   "metadata": {},
   "outputs": [],
   "source": [
    "tree = Phylo.read('phylo_tree.xml', 'phyloxml')"
   ]
  },
  {
   "cell_type": "code",
   "execution_count": 94,
   "id": "901498a2-9572-4b42-91b0-4f3302d71427",
   "metadata": {},
   "outputs": [
    {
     "data": {
      "image/png": "[encoded data removed]",
      "text/plain": [
       "<Figure size 432x288 with 1 Axes>"
      ]
     },
     "metadata": {
      "needs_background": "light"
     },
     "output_type": "display_data"
    }
   ],
   "source": [
    "tree.ladderize()\n",
    "Phylo.draw(tree)"
   ]
  },
  {
   "cell_type": "code",
   "execution_count": null,
   "id": "c3bf87b3-a54e-4957-b98b-3d3bdd6acd51",
   "metadata": {},
   "outputs": [],
   "source": []
  }
 ],
 "metadata": {
  "kernelspec": {
   "display_name": "Python 3 (ipykernel)",
   "language": "python",
   "name": "python3"
  },
  "language_info": {
   "codemirror_mode": {
    "name": "ipython",
    "version": 3
   },
   "file_extension": ".py",
   "mimetype": "text/x-python",
   "name": "python",
   "nbconvert_exporter": "python",
   "pygments_lexer": "ipython3",
   "version": "3.9.12"
  }
 },
 "nbformat": 4,
 "nbformat_minor": 5
}
