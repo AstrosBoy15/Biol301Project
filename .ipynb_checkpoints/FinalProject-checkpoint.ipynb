{
 "cells": [
  {
   "cell_type": "code",
   "execution_count": 1,
   "id": "b466dcce-75bd-4b12-9177-e38831ea7e83",
   "metadata": {},
   "outputs": [],
   "source": [
    "import numpy as np\n",
    "from Bio import Phylo\n",
    "import pandas as pd"
   ]
  },
  {
   "cell_type": "markdown",
   "id": "b820c426-ee31-42fa-bdef-6b04795ffcc2",
   "metadata": {},
   "source": [
    "# Part 1 - Preparing the Data"
   ]
  },
  {
   "cell_type": "code",
   "execution_count": 2,
   "id": "ad3d4fbe-10ca-42bf-8acc-afadcc6272fe",
   "metadata": {},
   "outputs": [
    {
     "name": "stderr",
     "output_type": "stream",
     "text": [
      "C:\\Users\\astro\\AppData\\Local\\Temp\\ipykernel_22012\\2449211354.py:3: DtypeWarning: Columns (5,6) have mixed types. Specify dtype option on import or set low_memory=False.\n",
      "  df = pd.read_csv(f)\n"
     ]
    }
   ],
   "source": [
    "#read file into a data frame\n",
    "f = open('codon_usage.csv', 'r')\n",
    "df = pd.read_csv(f)"
   ]
  },
  {
   "cell_type": "code",
   "execution_count": 3,
   "id": "9e1cdc78-67f6-48bf-8790-9440cc1e4142",
   "metadata": {},
   "outputs": [],
   "source": [
    "#parse out only columns labeled as 'rod' (rodents)\n",
    "rodents_mit = df[df['Kingdom'] == 'rod']\n",
    "\n",
    "#remove the mitocondrial DNA by using the DNAtype column\n",
    "rodents = rodents_mit[rodents_mit['DNAtype'] == 0]"
   ]
  },
  {
   "cell_type": "code",
   "execution_count": 4,
   "id": "d14c5e93-0c08-4df5-95e9-d624fb1d6253",
   "metadata": {},
   "outputs": [
    {
     "data": {
      "text/html": [
       "<div>\n",
       "<style scoped>\n",
       "    .dataframe tbody tr th:only-of-type {\n",
       "        vertical-align: middle;\n",
       "    }\n",
       "\n",
       "    .dataframe tbody tr th {\n",
       "        vertical-align: top;\n",
       "    }\n",
       "\n",
       "    .dataframe thead th {\n",
       "        text-align: right;\n",
       "    }\n",
       "</style>\n",
       "<table border=\"1\" class=\"dataframe\">\n",
       "  <thead>\n",
       "    <tr style=\"text-align: right;\">\n",
       "      <th></th>\n",
       "      <th>Kingdom</th>\n",
       "      <th>DNAtype</th>\n",
       "      <th>SpeciesID</th>\n",
       "      <th>Ncodons</th>\n",
       "      <th>SpeciesName</th>\n",
       "      <th>UUU</th>\n",
       "      <th>UUC</th>\n",
       "      <th>UUA</th>\n",
       "      <th>UUG</th>\n",
       "      <th>CUU</th>\n",
       "      <th>...</th>\n",
       "      <th>CGG</th>\n",
       "      <th>AGA</th>\n",
       "      <th>AGG</th>\n",
       "      <th>GAU</th>\n",
       "      <th>GAC</th>\n",
       "      <th>GAA</th>\n",
       "      <th>GAG</th>\n",
       "      <th>UAA</th>\n",
       "      <th>UAG</th>\n",
       "      <th>UGA</th>\n",
       "    </tr>\n",
       "  </thead>\n",
       "  <tbody>\n",
       "    <tr>\n",
       "      <th>12633</th>\n",
       "      <td>rod</td>\n",
       "      <td>0</td>\n",
       "      <td>10007</td>\n",
       "      <td>3175</td>\n",
       "      <td>Sciurus aberti</td>\n",
       "      <td>0.02614</td>\n",
       "      <td>0.04346</td>\n",
       "      <td>0.00315</td>\n",
       "      <td>0.01386</td>\n",
       "      <td>0.01417</td>\n",
       "      <td>...</td>\n",
       "      <td>0.00693</td>\n",
       "      <td>0.01165</td>\n",
       "      <td>0.00630</td>\n",
       "      <td>0.01764</td>\n",
       "      <td>0.03811</td>\n",
       "      <td>0.04661</td>\n",
       "      <td>0.03874</td>\n",
       "      <td>0.00031</td>\n",
       "      <td>0.00000</td>\n",
       "      <td>0.00346</td>\n",
       "    </tr>\n",
       "    <tr>\n",
       "      <th>12636</th>\n",
       "      <td>rod</td>\n",
       "      <td>0</td>\n",
       "      <td>10013</td>\n",
       "      <td>13348</td>\n",
       "      <td>Thomomys bottae</td>\n",
       "      <td>0.01349</td>\n",
       "      <td>0.04188</td>\n",
       "      <td>0.00637</td>\n",
       "      <td>0.01191</td>\n",
       "      <td>0.01626</td>\n",
       "      <td>...</td>\n",
       "      <td>0.01251</td>\n",
       "      <td>0.00000</td>\n",
       "      <td>0.00644</td>\n",
       "      <td>0.00000</td>\n",
       "      <td>0.01933</td>\n",
       "      <td>0.00000</td>\n",
       "      <td>0.02255</td>\n",
       "      <td>0.00000</td>\n",
       "      <td>0.00000</td>\n",
       "      <td>0.00322</td>\n",
       "    </tr>\n",
       "    <tr>\n",
       "      <th>12638</th>\n",
       "      <td>rod</td>\n",
       "      <td>0</td>\n",
       "      <td>10026</td>\n",
       "      <td>2833</td>\n",
       "      <td>Cricetinae</td>\n",
       "      <td>0.01483</td>\n",
       "      <td>0.03</td>\n",
       "      <td>0.00000</td>\n",
       "      <td>0.01412</td>\n",
       "      <td>0.00706</td>\n",
       "      <td>...</td>\n",
       "      <td>0.01447</td>\n",
       "      <td>0.01200</td>\n",
       "      <td>0.01518</td>\n",
       "      <td>0.01271</td>\n",
       "      <td>0.02400</td>\n",
       "      <td>0.01518</td>\n",
       "      <td>0.05154</td>\n",
       "      <td>0.00106</td>\n",
       "      <td>0.00071</td>\n",
       "      <td>0.00106</td>\n",
       "    </tr>\n",
       "    <tr>\n",
       "      <th>12639</th>\n",
       "      <td>rod</td>\n",
       "      <td>0</td>\n",
       "      <td>10029</td>\n",
       "      <td>153527</td>\n",
       "      <td>Cricetulus griseus</td>\n",
       "      <td>0.01957</td>\n",
       "      <td>0.02202</td>\n",
       "      <td>0.00637</td>\n",
       "      <td>0.01413</td>\n",
       "      <td>0.01318</td>\n",
       "      <td>...</td>\n",
       "      <td>0.01015</td>\n",
       "      <td>0.01014</td>\n",
       "      <td>0.01023</td>\n",
       "      <td>0.02463</td>\n",
       "      <td>0.02807</td>\n",
       "      <td>0.02837</td>\n",
       "      <td>0.04111</td>\n",
       "      <td>0.00061</td>\n",
       "      <td>0.00055</td>\n",
       "      <td>0.00115</td>\n",
       "    </tr>\n",
       "    <tr>\n",
       "      <th>12641</th>\n",
       "      <td>rod</td>\n",
       "      <td>0</td>\n",
       "      <td>10030</td>\n",
       "      <td>22059</td>\n",
       "      <td>Cricetulus longicaudatus</td>\n",
       "      <td>0.02067</td>\n",
       "      <td>0.01841</td>\n",
       "      <td>0.00694</td>\n",
       "      <td>0.01419</td>\n",
       "      <td>0.01423</td>\n",
       "      <td>...</td>\n",
       "      <td>0.00816</td>\n",
       "      <td>0.01324</td>\n",
       "      <td>0.01079</td>\n",
       "      <td>0.03210</td>\n",
       "      <td>0.02616</td>\n",
       "      <td>0.03405</td>\n",
       "      <td>0.03631</td>\n",
       "      <td>0.00082</td>\n",
       "      <td>0.00045</td>\n",
       "      <td>0.00082</td>\n",
       "    </tr>\n",
       "  </tbody>\n",
       "</table>\n",
       "<p>5 rows × 69 columns</p>\n",
       "</div>"
      ],
      "text/plain": [
       "      Kingdom  DNAtype  SpeciesID  Ncodons               SpeciesName      UUU  \\\n",
       "12633     rod        0      10007     3175            Sciurus aberti  0.02614   \n",
       "12636     rod        0      10013    13348           Thomomys bottae  0.01349   \n",
       "12638     rod        0      10026     2833                Cricetinae  0.01483   \n",
       "12639     rod        0      10029   153527        Cricetulus griseus  0.01957   \n",
       "12641     rod        0      10030    22059  Cricetulus longicaudatus  0.02067   \n",
       "\n",
       "           UUC      UUA      UUG      CUU  ...      CGG      AGA      AGG  \\\n",
       "12633  0.04346  0.00315  0.01386  0.01417  ...  0.00693  0.01165  0.00630   \n",
       "12636  0.04188  0.00637  0.01191  0.01626  ...  0.01251  0.00000  0.00644   \n",
       "12638     0.03  0.00000  0.01412  0.00706  ...  0.01447  0.01200  0.01518   \n",
       "12639  0.02202  0.00637  0.01413  0.01318  ...  0.01015  0.01014  0.01023   \n",
       "12641  0.01841  0.00694  0.01419  0.01423  ...  0.00816  0.01324  0.01079   \n",
       "\n",
       "           GAU      GAC      GAA      GAG      UAA      UAG      UGA  \n",
       "12633  0.01764  0.03811  0.04661  0.03874  0.00031  0.00000  0.00346  \n",
       "12636  0.00000  0.01933  0.00000  0.02255  0.00000  0.00000  0.00322  \n",
       "12638  0.01271  0.02400  0.01518  0.05154  0.00106  0.00071  0.00106  \n",
       "12639  0.02463  0.02807  0.02837  0.04111  0.00061  0.00055  0.00115  \n",
       "12641  0.03210  0.02616  0.03405  0.03631  0.00082  0.00045  0.00082  \n",
       "\n",
       "[5 rows x 69 columns]"
      ]
     },
     "execution_count": 4,
     "metadata": {},
     "output_type": "execute_result"
    }
   ],
   "source": [
    "#limit the number of rodents and print out dataframe\n",
    "rodents = rodents[:5]\n",
    "rodents"
   ]
  },
  {
   "cell_type": "code",
   "execution_count": 5,
   "id": "c343b157-81ab-45e8-918c-05ee99fa89c6",
   "metadata": {},
   "outputs": [],
   "source": [
    "#create directionary of amino acids and corresponding codons\n",
    "aas = {'Phe': ['UUU','UUC'], 'Leu': ['UUA','UUG','CUU','CUC','CUA','CUG'], 'Ile': ['AUU','AUC','AUA'], 'Met': ['AUG'], 'Val': ['GUU','GUC','GUA','GUG'],\n",
    "       'Ser': ['UCU','UCC','UCA','UCG','AGU','AGC'], 'Pro': ['CCU','CCC','CCA','CCG'], 'Thr': ['ACU','ACC','ACA','ACG'], 'Ala': ['GCU','GCC','GCA','GCG'], \n",
    "       'Tyr': ['UAU','UAC'], '***': ['UAA','UAG','UGA'], 'Trp': ['UGG'], 'His': ['CAU','CAC'], 'Gln': ['CAA','CAG'], 'Asn': ['AAU','AAC'], 'Lys': ['AAA','AAG'],\n",
    "       'Cys': ['UGU','UGC'], 'Arg': ['CGU','CGC','CGA','CGG','AGA','AGG'], 'Gly': ['GGU','GGC','GGA','GGG'], 'Asp': ['GAU','GAC'], 'Glu': ['GAA','GAG']}"
   ]
  },
  {
   "cell_type": "code",
   "execution_count": 6,
   "id": "2897a12f-8e60-4f73-aa74-099a5a616326",
   "metadata": {},
   "outputs": [
    {
     "data": {
      "text/plain": [
       "21"
      ]
     },
     "execution_count": 6,
     "metadata": {},
     "output_type": "execute_result"
    }
   ],
   "source": [
    "#check that all amino acids are in dictionary (20+stop = 21)\n",
    "len(aas)"
   ]
  },
  {
   "cell_type": "code",
   "execution_count": 7,
   "id": "7ed60867-077b-44d9-a418-14fd02db359d",
   "metadata": {},
   "outputs": [
    {
     "name": "stdout",
     "output_type": "stream",
     "text": [
      "64\n"
     ]
    }
   ],
   "source": [
    "#check that all codons are included in dictionary (should be 64)\n",
    "count = 0\n",
    "for i in aas:\n",
    "    count += len(aas[i])\n",
    "    \n",
    "print(count)"
   ]
  },
  {
   "cell_type": "code",
   "execution_count": 8,
   "id": "9ac710ad-6114-4ffd-9e88-9e73a489780a",
   "metadata": {},
   "outputs": [],
   "source": [
    "#check to confirm all values are actual codons. Will return a key error if there is a typo\n",
    "for i in aas: \n",
    "    for j in aas[i]:\n",
    "        s = rodents[j]"
   ]
  },
  {
   "cell_type": "code",
   "execution_count": 9,
   "id": "ee499571-c1be-4e33-b508-cf48890d3fec",
   "metadata": {},
   "outputs": [],
   "source": [
    "#standarize by amino acid\n",
    "\n",
    "#loop through each animal\n",
    "for animal in rodents['SpeciesName']:\n",
    "    #loop through all amino acids\n",
    "    for aa in aas:\n",
    "        #initalize total percent of amino acid\n",
    "        total = 0 \n",
    "        \n",
    "        #loop through codons and add up percentages\n",
    "        for codon in aas[aa]:\n",
    "            total += rodents[rodents['SpeciesName'] == animal][codon]\n",
    "        \n",
    "        #loop through codons, normalize by amino acid, and replace in data frame\n",
    "        for codon in aas[aa]:\n",
    "            rodents.loc[rodents['SpeciesName'] == animal,[codon]] =  (rodents[rodents['SpeciesName'] == animal][codon])/total"
   ]
  },
  {
   "cell_type": "code",
   "execution_count": 10,
   "id": "947bc2b3-f1f6-4539-b8a9-782fd7483b62",
   "metadata": {},
   "outputs": [
    {
     "data": {
      "text/html": [
       "<div>\n",
       "<style scoped>\n",
       "    .dataframe tbody tr th:only-of-type {\n",
       "        vertical-align: middle;\n",
       "    }\n",
       "\n",
       "    .dataframe tbody tr th {\n",
       "        vertical-align: top;\n",
       "    }\n",
       "\n",
       "    .dataframe thead th {\n",
       "        text-align: right;\n",
       "    }\n",
       "</style>\n",
       "<table border=\"1\" class=\"dataframe\">\n",
       "  <thead>\n",
       "    <tr style=\"text-align: right;\">\n",
       "      <th></th>\n",
       "      <th>Kingdom</th>\n",
       "      <th>DNAtype</th>\n",
       "      <th>SpeciesID</th>\n",
       "      <th>Ncodons</th>\n",
       "      <th>SpeciesName</th>\n",
       "      <th>UUU</th>\n",
       "      <th>UUC</th>\n",
       "      <th>UUA</th>\n",
       "      <th>UUG</th>\n",
       "      <th>CUU</th>\n",
       "      <th>...</th>\n",
       "      <th>CGG</th>\n",
       "      <th>AGA</th>\n",
       "      <th>AGG</th>\n",
       "      <th>GAU</th>\n",
       "      <th>GAC</th>\n",
       "      <th>GAA</th>\n",
       "      <th>GAG</th>\n",
       "      <th>UAA</th>\n",
       "      <th>UAG</th>\n",
       "      <th>UGA</th>\n",
       "    </tr>\n",
       "  </thead>\n",
       "  <tbody>\n",
       "    <tr>\n",
       "      <th>12633</th>\n",
       "      <td>rod</td>\n",
       "      <td>0</td>\n",
       "      <td>10007</td>\n",
       "      <td>3175</td>\n",
       "      <td>Sciurus aberti</td>\n",
       "      <td>0.375575</td>\n",
       "      <td>0.624425</td>\n",
       "      <td>0.033561</td>\n",
       "      <td>0.147667</td>\n",
       "      <td>0.150970</td>\n",
       "      <td>...</td>\n",
       "      <td>0.153863</td>\n",
       "      <td>0.258659</td>\n",
       "      <td>0.139876</td>\n",
       "      <td>0.316413</td>\n",
       "      <td>0.683587</td>\n",
       "      <td>0.546104</td>\n",
       "      <td>0.453896</td>\n",
       "      <td>0.082228</td>\n",
       "      <td>0.000000</td>\n",
       "      <td>0.917772</td>\n",
       "    </tr>\n",
       "    <tr>\n",
       "      <th>12636</th>\n",
       "      <td>rod</td>\n",
       "      <td>0</td>\n",
       "      <td>10013</td>\n",
       "      <td>13348</td>\n",
       "      <td>Thomomys bottae</td>\n",
       "      <td>0.243634</td>\n",
       "      <td>0.756366</td>\n",
       "      <td>0.036840</td>\n",
       "      <td>0.068880</td>\n",
       "      <td>0.094037</td>\n",
       "      <td>...</td>\n",
       "      <td>0.305793</td>\n",
       "      <td>0.000000</td>\n",
       "      <td>0.157419</td>\n",
       "      <td>0.000000</td>\n",
       "      <td>1.000000</td>\n",
       "      <td>0.000000</td>\n",
       "      <td>1.000000</td>\n",
       "      <td>0.000000</td>\n",
       "      <td>0.000000</td>\n",
       "      <td>1.000000</td>\n",
       "    </tr>\n",
       "    <tr>\n",
       "      <th>12638</th>\n",
       "      <td>rod</td>\n",
       "      <td>0</td>\n",
       "      <td>10026</td>\n",
       "      <td>2833</td>\n",
       "      <td>Cricetinae</td>\n",
       "      <td>0.330805</td>\n",
       "      <td>0.669195</td>\n",
       "      <td>0.000000</td>\n",
       "      <td>0.120129</td>\n",
       "      <td>0.060065</td>\n",
       "      <td>...</td>\n",
       "      <td>0.212388</td>\n",
       "      <td>0.176134</td>\n",
       "      <td>0.222809</td>\n",
       "      <td>0.346227</td>\n",
       "      <td>0.653773</td>\n",
       "      <td>0.227518</td>\n",
       "      <td>0.772482</td>\n",
       "      <td>0.374558</td>\n",
       "      <td>0.250883</td>\n",
       "      <td>0.374558</td>\n",
       "    </tr>\n",
       "    <tr>\n",
       "      <th>12639</th>\n",
       "      <td>rod</td>\n",
       "      <td>0</td>\n",
       "      <td>10029</td>\n",
       "      <td>153527</td>\n",
       "      <td>Cricetulus griseus</td>\n",
       "      <td>0.470546</td>\n",
       "      <td>0.529454</td>\n",
       "      <td>0.064683</td>\n",
       "      <td>0.143481</td>\n",
       "      <td>0.133834</td>\n",
       "      <td>...</td>\n",
       "      <td>0.192856</td>\n",
       "      <td>0.192666</td>\n",
       "      <td>0.194376</td>\n",
       "      <td>0.467362</td>\n",
       "      <td>0.532638</td>\n",
       "      <td>0.408319</td>\n",
       "      <td>0.591681</td>\n",
       "      <td>0.264069</td>\n",
       "      <td>0.238095</td>\n",
       "      <td>0.497835</td>\n",
       "    </tr>\n",
       "    <tr>\n",
       "      <th>12641</th>\n",
       "      <td>rod</td>\n",
       "      <td>0</td>\n",
       "      <td>10030</td>\n",
       "      <td>22059</td>\n",
       "      <td>Cricetulus longicaudatus</td>\n",
       "      <td>0.528915</td>\n",
       "      <td>0.471085</td>\n",
       "      <td>0.077794</td>\n",
       "      <td>0.159063</td>\n",
       "      <td>0.159511</td>\n",
       "      <td>...</td>\n",
       "      <td>0.160567</td>\n",
       "      <td>0.260527</td>\n",
       "      <td>0.212318</td>\n",
       "      <td>0.550978</td>\n",
       "      <td>0.449022</td>\n",
       "      <td>0.483940</td>\n",
       "      <td>0.516060</td>\n",
       "      <td>0.392344</td>\n",
       "      <td>0.215311</td>\n",
       "      <td>0.392344</td>\n",
       "    </tr>\n",
       "  </tbody>\n",
       "</table>\n",
       "<p>5 rows × 69 columns</p>\n",
       "</div>"
      ],
      "text/plain": [
       "      Kingdom  DNAtype  SpeciesID  Ncodons               SpeciesName  \\\n",
       "12633     rod        0      10007     3175            Sciurus aberti   \n",
       "12636     rod        0      10013    13348           Thomomys bottae   \n",
       "12638     rod        0      10026     2833                Cricetinae   \n",
       "12639     rod        0      10029   153527        Cricetulus griseus   \n",
       "12641     rod        0      10030    22059  Cricetulus longicaudatus   \n",
       "\n",
       "            UUU       UUC       UUA       UUG       CUU  ...       CGG  \\\n",
       "12633  0.375575  0.624425  0.033561  0.147667  0.150970  ...  0.153863   \n",
       "12636  0.243634  0.756366  0.036840  0.068880  0.094037  ...  0.305793   \n",
       "12638  0.330805  0.669195  0.000000  0.120129  0.060065  ...  0.212388   \n",
       "12639  0.470546  0.529454  0.064683  0.143481  0.133834  ...  0.192856   \n",
       "12641  0.528915  0.471085  0.077794  0.159063  0.159511  ...  0.160567   \n",
       "\n",
       "            AGA       AGG       GAU       GAC       GAA       GAG       UAA  \\\n",
       "12633  0.258659  0.139876  0.316413  0.683587  0.546104  0.453896  0.082228   \n",
       "12636  0.000000  0.157419  0.000000  1.000000  0.000000  1.000000  0.000000   \n",
       "12638  0.176134  0.222809  0.346227  0.653773  0.227518  0.772482  0.374558   \n",
       "12639  0.192666  0.194376  0.467362  0.532638  0.408319  0.591681  0.264069   \n",
       "12641  0.260527  0.212318  0.550978  0.449022  0.483940  0.516060  0.392344   \n",
       "\n",
       "            UAG       UGA  \n",
       "12633  0.000000  0.917772  \n",
       "12636  0.000000  1.000000  \n",
       "12638  0.250883  0.374558  \n",
       "12639  0.238095  0.497835  \n",
       "12641  0.215311  0.392344  \n",
       "\n",
       "[5 rows x 69 columns]"
      ]
     },
     "execution_count": 10,
     "metadata": {},
     "output_type": "execute_result"
    }
   ],
   "source": [
    "#print rodents to make sure it updated \n",
    "rodents"
   ]
  },
  {
   "cell_type": "code",
   "execution_count": 11,
   "id": "11d77279-d24a-4bea-9645-87dced264010",
   "metadata": {},
   "outputs": [],
   "source": [
    "def species_diff(species1,species2):\n",
    "    # finds the difference between the codon bias of two species\n",
    "    \n",
    "    # step a counting value to 0\n",
    "    diff = 0 \n",
    "    \n",
    "    #loop through all amino acids\n",
    "    for aa in aas:\n",
    "        #loop through all codons\n",
    "        for codon in aas[aa]:\n",
    "            #add the difference between the species codon bias squared \n",
    "            diff += (rodents[rodents['SpeciesName'] == species1][codon].values[0] - rodents[rodents['SpeciesName'] == species2][codon].values[0])**2\n",
    "    \n",
    "    #return the total difference between two speices\n",
    "    return diff         "
   ]
  },
  {
   "cell_type": "markdown",
   "id": "f2594c26-5741-47bb-809d-b8d74b0c8089",
   "metadata": {},
   "source": [
    "# Part 2 - UPGMA"
   ]
  },
  {
   "cell_type": "code",
   "execution_count": 12,
   "id": "a480c431-1f3a-40b8-8df8-e21a029f6e20",
   "metadata": {},
   "outputs": [],
   "source": [
    "class Node:\n",
    "    def __init__(self):\n",
    "        self.left = None\n",
    "        self.right = None\n",
    "        self.val = None"
   ]
  },
  {
   "cell_type": "code",
   "execution_count": 13,
   "id": "be81063c-773d-41ca-9a5a-330d146ea277",
   "metadata": {},
   "outputs": [],
   "source": [
    "def differences(seq1, seq2):\n",
    "    '''Counts the number of pairwise differences between\n",
    "    two sequences'''\n",
    "    \n",
    "    count = 0\n",
    "    \n",
    "    for i in range(len(seq1)):\n",
    "        if seq1[i] != seq2[i]:\n",
    "            count += 1\n",
    "            \n",
    "    return count"
   ]
  },
  {
   "cell_type": "code",
   "execution_count": 14,
   "id": "bea07c81-79c4-4e66-8f13-2481a8f55a4a",
   "metadata": {},
   "outputs": [],
   "source": [
    "human =   \"MVLSPADKTNVKAAWGKVGAHAGEYGAEALERMFLSFPTTKTYFPHF.DLSHGSAQVKGHGKKVADALTNAVAHVDDMPNALSALSDLHAHKLRVDPVNFKLLSHCLLVTLAAHLPAEFTPAVHASLDKFLASVSTVLTSKYR\"\n",
    "chimp =   \"MVLSPADKTNVKAAWGKVGAHAGEYGAEALERMFLSFPTTKTYFPHF.DLSHGSAQVKGHGKKVADALTNAVAHVDDMPNALSALSDLHAHKLRVDPVNFKLLSHCLLVTLAAHLPAEFTPAVHASLDKFLASVSTVLTSKYR\"\n",
    "gorilla = \".VLSPADKTNVKAAWGKVGAHAGDYGAEALERMFLSFPTTKTYFPHF.DLSHGSAQVKGHGKKVADALTNAVAHVDDMPNALSALSDLHAHKLRVDPVNFKLLSHCLLVTLAAHLPAEFTPAVHASLDKFLASVSTVLTSKYR\"\n",
    "cow =     \"MVLSAADKGNVKAAWGKVGGHAAEYGAEALERMFLSFPTTKTYFPHF.DLSHGSAQVKGHGAKVAAALTKAVEHLDDLPGALSELSDLHAHKLRVDPVNFKLLSHSLLVTLASHLPSDFTPAVHASLDKFLANVSTVLTSKYR\"\n",
    "horse =   \"MVLSAADKTNVKAAWSKVGGHAGEYGAEALERMFLGFPTTKTYFPHF.DLSHGSAQVKAHGKKVGDALTLAVGHLDDLPGALSNLSDLHAHKLRVDPVNFKLLSHCLLSTLAVHLPNDFTPAVHASLDKFLSSVSTVLTSKYR\"  \n",
    "donkey =  \"MVLSAADKTNVKAAWSKVGGNAGEFGAEALERMFLGFPTTKTYFPHF.DLSHGSAQVKAHGKKVGDALTLAVGHLDDLPGALSNLSDLHAHKLRVDPVNFKLLSHCLLSTLAVHLPNDFTPAVHASLDKFLSTVSTVLTSKYR\" \n",
    "rabbit =  \".VLSPADKTNIKTAWEKIGSHGGEYGAEAVERMFLGFPTTKTYFPHF.DFTHGSZQIKAHGKKVSEALTKAVGHLDDLPGALSTLSDLHAHKLRVDPVNFKLLSHCLLVTLANHHPSEFTPAVHASLDKFLANVSTVLTSKYR\"\n",
    "carp =    \"MSLSDKDKAAVKGLWAKISPKADDIGAEALGRMLTVYPQTKTYFAHWADLSPGSGPVKKHGKVIMGAVGDAVSKIDDLVGGLAALSELHAFKLRVDPANFKILAHNVIVVIGMLYPGDFPPEVHMSVDKFFQNLALALSEKYR\""
   ]
  },
  {
   "cell_type": "code",
   "execution_count": 15,
   "id": "4014e115-a6bc-4cbd-8c69-87f0404237ff",
   "metadata": {},
   "outputs": [],
   "source": [
    "animals = [carp, cow, donkey, horse, human, gorilla, rabbit]\n",
    "nodes = [\"carp\", \"cow\", \"donkey\", \"horse\", \"human\", \"gorilla\", \"rabbit\"]"
   ]
  },
  {
   "cell_type": "code",
   "execution_count": 16,
   "id": "e9ec439f-0f20-4627-a652-9f48f826ba38",
   "metadata": {},
   "outputs": [],
   "source": [
    "def create_diff_dict(animals, nodes):\n",
    "    '''Creates a matrix of differences between the given species.\n",
    "    Stored in a dictionary of dictionary based on the indices of \n",
    "    the provided list.'''\n",
    "    \n",
    "    diff_dict = {}\n",
    "\n",
    "    for i, animal1 in enumerate(nodes):\n",
    "        for j, animal2 in enumerate(nodes):\n",
    "            if(animal1 == animal2):\n",
    "                continue\n",
    "                \n",
    "            diff = differences(animals[i], animals[j])\n",
    "\n",
    "            if(not animal1 in diff_dict):\n",
    "                diff_dict[animal1] = {}\n",
    "\n",
    "            if(not animal2 in diff_dict):\n",
    "                diff_dict[animal2] = {}\n",
    "\n",
    "            diff_dict[animal1][animal2] = diff\n",
    "            diff_dict[animal2][animal1] = diff\n",
    "        \n",
    "    return diff_dict"
   ]
  },
  {
   "cell_type": "code",
   "execution_count": 17,
   "id": "1173adb4-a123-453c-9166-253d750de888",
   "metadata": {},
   "outputs": [
    {
     "data": {
      "text/plain": [
       "{'carp': {'cow': 70,\n",
       "  'donkey': 71,\n",
       "  'horse': 71,\n",
       "  'human': 72,\n",
       "  'gorilla': 72,\n",
       "  'rabbit': 76},\n",
       " 'cow': {'carp': 70,\n",
       "  'donkey': 19,\n",
       "  'horse': 17,\n",
       "  'human': 17,\n",
       "  'gorilla': 19,\n",
       "  'rabbit': 26},\n",
       " 'donkey': {'carp': 71,\n",
       "  'cow': 19,\n",
       "  'horse': 3,\n",
       "  'human': 20,\n",
       "  'gorilla': 22,\n",
       "  'rabbit': 26},\n",
       " 'horse': {'carp': 71,\n",
       "  'cow': 17,\n",
       "  'donkey': 3,\n",
       "  'human': 17,\n",
       "  'gorilla': 19,\n",
       "  'rabbit': 24},\n",
       " 'human': {'carp': 72,\n",
       "  'cow': 17,\n",
       "  'donkey': 20,\n",
       "  'horse': 17,\n",
       "  'gorilla': 2,\n",
       "  'rabbit': 26},\n",
       " 'gorilla': {'carp': 72,\n",
       "  'cow': 19,\n",
       "  'donkey': 22,\n",
       "  'horse': 19,\n",
       "  'human': 2,\n",
       "  'rabbit': 26},\n",
       " 'rabbit': {'carp': 76,\n",
       "  'cow': 26,\n",
       "  'donkey': 26,\n",
       "  'horse': 24,\n",
       "  'human': 26,\n",
       "  'gorilla': 26}}"
      ]
     },
     "execution_count": 17,
     "metadata": {},
     "output_type": "execute_result"
    }
   ],
   "source": [
    "create_diff_dict(animals, nodes)"
   ]
  },
  {
   "cell_type": "code",
   "execution_count": 18,
   "id": "bc391d05-5371-4af5-9962-068f956a97c8",
   "metadata": {},
   "outputs": [],
   "source": [
    "def pair_group(diff_dict):\n",
    "    \"\"\" given a matrix of differences, returns the indices of the closest two related organisms\"\"\"\n",
    "    \n",
    "    min_val = np.inf\n",
    "    index_1 = 0\n",
    "    index_2 = 0\n",
    "    \n",
    "    for i in diff_dict.keys():\n",
    "        for j in diff_dict[i].keys():\n",
    "            if diff_dict[i][j] < min_val:\n",
    "                min_val = diff_dict[i][j]\n",
    "                index_1 = i\n",
    "                index_2 = j\n",
    "    \n",
    "    return (index_1, index_2)"
   ]
  },
  {
   "cell_type": "code",
   "execution_count": 19,
   "id": "589bcc22-d967-4e4d-8138-d641939f5621",
   "metadata": {},
   "outputs": [
    {
     "data": {
      "text/plain": [
       "('human', 'gorilla')"
      ]
     },
     "execution_count": 19,
     "metadata": {},
     "output_type": "execute_result"
    }
   ],
   "source": [
    "pair_group(create_diff_dict(animals, nodes))"
   ]
  },
  {
   "cell_type": "code",
   "execution_count": 20,
   "id": "2d2e2fb2-983f-4c30-b68d-c84c832f2c13",
   "metadata": {
    "tags": []
   },
   "outputs": [],
   "source": [
    "def calculate_weight(tup):\n",
    "    '''Determine number of items in a nested tuple'''\n",
    "    if(type(tup) != tuple):\n",
    "        return 1\n",
    "    \n",
    "    num_values = 0\n",
    "    \n",
    "    for i in tup:\n",
    "        if type(i) == tuple:\n",
    "            num_values += calculate_weight(i)\n",
    "        else:\n",
    "            num_values += 1\n",
    "            \n",
    "    return num_values"
   ]
  },
  {
   "cell_type": "code",
   "execution_count": 21,
   "id": "cc9773e5-74db-4257-9649-71a308a1ab43",
   "metadata": {},
   "outputs": [],
   "source": [
    "def get_distance_to_farthest_node(root):\n",
    "    if(root.right == None):\n",
    "        return 0\n",
    "    \n",
    "    return root.right[1] + get_distance_to_farthest_node(root.right[0])"
   ]
  },
  {
   "cell_type": "code",
   "execution_count": 22,
   "id": "f5f39093-4af1-4a00-b265-2b998eb26b88",
   "metadata": {},
   "outputs": [],
   "source": [
    "def generate_phylogenetic_tree(diff_dict):\n",
    "    '''Creates a phylogentic tree from a list of sequences'''\n",
    "    \n",
    "    # Create the dictionary of nodes for the phylogentic tree creation\n",
    "    node_dict = {}\n",
    "\n",
    "    for species in diff_dict:\n",
    "        node = Node()\n",
    "        node.val = species\n",
    "        node_dict[species] = node\n",
    "\n",
    "    # Apply UPGMA until all nodes have been combined\n",
    "    while(len(diff_dict.keys()) > 1):\n",
    "        # Get most related nodes\n",
    "        (animal_1, animal_2) = pair_group(diff_dict)\n",
    "        \n",
    "        # Add a new row for the new node\n",
    "        new_node = (animal_1, animal_2)\n",
    "        diff_dict[new_node] = {}\n",
    "        \n",
    "        distance = diff_dict[animal_1][animal_2]\n",
    "        \n",
    "        node = Node()\n",
    "        node.val = new_node\n",
    "        node.left = (node_dict[animal_1], distance / 2 - get_distance_to_farthest_node(node_dict[animal_1]))\n",
    "        node.right = (node_dict[animal_2], distance / 2 - get_distance_to_farthest_node(node_dict[animal_2]))\n",
    "        \n",
    "        node_dict.pop(animal_1)\n",
    "        node_dict.pop(animal_2)\n",
    "        node_dict[new_node] = node\n",
    "        \n",
    "        # Delete node pairs from dictionary\n",
    "        diff_dict[animal_1].pop(animal_2)\n",
    "        diff_dict[animal_2].pop(animal_1)\n",
    "\n",
    "\n",
    "        # Calculate the weights for the arithmetic mean\n",
    "        weight1 = calculate_weight(animal_1)\n",
    "        weight2 = calculate_weight(animal_2)\n",
    "\n",
    "        # Populate new node's row\n",
    "        for i in diff_dict[animal_1].keys():\n",
    "            diff_dict[new_node][i] = (weight1 * diff_dict[animal_1][i] + weight2 * diff_dict[animal_2][i]) / (weight1 + weight2)\n",
    "\n",
    "        # Delete old nodes' rows\n",
    "        diff_dict.pop(animal_1)\n",
    "        diff_dict.pop(animal_2)\n",
    "\n",
    "        # Update remaining nodes' distances to the newly added node and delete the remaining\n",
    "        # references to the old nodes\n",
    "        for i in diff_dict.keys():\n",
    "            if(i != new_node):\n",
    "                diff_dict[i][new_node] = (weight1 * diff_dict[i][animal_1] + weight2 * diff_dict[i][animal_2]) / (weight1 + weight2)\n",
    "                \n",
    "                diff_dict[i].pop(animal_1)\n",
    "                diff_dict[i].pop(animal_2)\n",
    "    \n",
    "    # The last created node is the completed tree\n",
    "    return node"
   ]
  },
  {
   "cell_type": "code",
   "execution_count": 23,
   "id": "a580249b-faea-4f4a-a873-818a9d2074ce",
   "metadata": {},
   "outputs": [],
   "source": [
    "def create_tree(tree, nodes):\n",
    "    '''Generates a string based tree from a list of indices given a list of strings\n",
    "    to map the indices to'''\n",
    "    \n",
    "    out = [0, 0]\n",
    "    for i in range(len(tree)):\n",
    "        if type(tree[i]) == tuple:\n",
    "            out[i] = create_tree(tree[i], nodes)\n",
    "        else:\n",
    "            out[i] = nodes[tree[i]]\n",
    "            \n",
    "    return tuple(out)"
   ]
  },
  {
   "cell_type": "code",
   "execution_count": 24,
   "id": "a4418c0e-87ba-47a5-979b-ff1fea1f537c",
   "metadata": {},
   "outputs": [
    {
     "data": {
      "text/plain": [
       "('carp', ('rabbit', (('donkey', 'horse'), ('cow', ('human', 'gorilla')))))"
      ]
     },
     "execution_count": 24,
     "metadata": {},
     "output_type": "execute_result"
    }
   ],
   "source": [
    "# Create matrix of differences\n",
    "diff_dict = create_diff_dict(animals, nodes)\n",
    "\n",
    "# Create Node based tree\n",
    "index_tree = generate_phylogenetic_tree(diff_dict)\n",
    "index_tree.val"
   ]
  },
  {
   "cell_type": "code",
   "execution_count": 25,
   "id": "2ebde38f-25c8-4b8c-ad60-b5d430968ee6",
   "metadata": {},
   "outputs": [],
   "source": [
    "def write_tree_xml(root, filename):\n",
    "    with open(filename + '.xml', 'w') as f:\n",
    "        f.write('<?xml version=\"1.0\" encoding=\"UTF-8\"?>\\n')\n",
    "        f.write('<phyloxml xmlns:xsi=\"http://www.w3.org/2001/XMLSchema-instance\" xsi:schemaLocation=\"http://www.phyloxml.org http://www.phyloxml.org/1.10/phyloxml.xsd\" xmlns=\"http://www.phyloxml.org\">\\n')\n",
    "        f.write('<phylogeny rooted=\"true\">\\n')\n",
    "        f.write('<clade>')\n",
    "        \n",
    "        write_tree_recursive(root, f)\n",
    "        \n",
    "        f.write('</clade>\\n')\n",
    "        f.write('</phylogeny>\\n')\n",
    "        f.write('</phyloxml>\\n')"
   ]
  },
  {
   "cell_type": "code",
   "execution_count": 26,
   "id": "3f1c265c-4f87-4123-8cb1-7bb173f750fa",
   "metadata": {},
   "outputs": [],
   "source": [
    "def write_tree_recursive(root, f):\n",
    "    if(root.right == None):\n",
    "        f.write('<name>' + root.val + '</name>\\n')\n",
    "        return\n",
    "    \n",
    "    f.write('<clade branch_length=\"' + str(root.right[1]) + '\">\\n')\n",
    "    write_tree_recursive(root.right[0], f)\n",
    "    f.write('</clade>\\n')\n",
    "    \n",
    "    f.write('<clade branch_length=\"' + str(root.left[1]) + '\">\\n')\n",
    "    write_tree_recursive(root.left[0], f)\n",
    "    f.write('</clade>\\n')"
   ]
  },
  {
   "cell_type": "code",
   "execution_count": 27,
   "id": "a8ca48a2-f205-4aed-b78c-9c7656b21a6b",
   "metadata": {},
   "outputs": [
    {
     "data": {
      "image/png": "[encoded data removed]",
      "text/plain": [
       "<Figure size 432x288 with 1 Axes>"
      ]
     },
     "metadata": {
      "needs_background": "light"
     },
     "output_type": "display_data"
    }
   ],
   "source": [
    "# Generate PhyloXML file\n",
    "write_tree_xml(index_tree, 'test_tree')\n",
    "\n",
    "# Load and visualize phylogenetic tree\n",
    "tree = Phylo.read('test_tree.xml', 'phyloxml')\n",
    "tree.ladderize()\n",
    "Phylo.draw(tree)"
   ]
  },
  {
   "cell_type": "markdown",
   "id": "5caca769-f6ba-443d-a638-86d673ee3f84",
   "metadata": {},
   "source": [
    "# Part 3 - Creating a Tree of Rodents"
   ]
  },
  {
   "cell_type": "code",
   "execution_count": 28,
   "id": "775be81a-febd-41c1-902f-c71b2334fb40",
   "metadata": {},
   "outputs": [],
   "source": [
    "def create_diff_codon_dict(df):\n",
    "    diff_dict = {}\n",
    "    \n",
    "    for species1 in df['SpeciesName'].unique():\n",
    "        for species2 in df['SpeciesName'].unique():\n",
    "    \n",
    "            if(species1 == species2):\n",
    "                continue\n",
    "\n",
    "            diff = species_diff(species1, species2)\n",
    "\n",
    "            if(not species1 in diff_dict):\n",
    "                diff_dict[species1] = {}\n",
    "\n",
    "            if(not species2 in diff_dict):\n",
    "                diff_dict[species2] = {}\n",
    "\n",
    "            diff_dict[species1][species2] = diff\n",
    "            diff_dict[species2][species1] = diff\n",
    "        \n",
    "    return diff_dict"
   ]
  },
  {
   "cell_type": "code",
   "execution_count": 29,
   "id": "aa6500e4-0fbe-4335-9c2b-0a9e0a89dc56",
   "metadata": {},
   "outputs": [
    {
     "data": {
      "text/plain": [
       "{'Sciurus aberti': {'Thomomys bottae': 2.771037577334951,\n",
       "  'Cricetinae': 2.02019270954903,\n",
       "  'Cricetulus griseus': 0.9708441863131418,\n",
       "  'Cricetulus longicaudatus': 1.2286812142380732},\n",
       " 'Thomomys bottae': {'Sciurus aberti': 2.771037577334951,\n",
       "  'Cricetinae': 1.5667917853152091,\n",
       "  'Cricetulus griseus': 2.3938057678655302,\n",
       "  'Cricetulus longicaudatus': 3.4753143887224858},\n",
       " 'Cricetinae': {'Sciurus aberti': 2.02019270954903,\n",
       "  'Thomomys bottae': 1.5667917853152091,\n",
       "  'Cricetulus griseus': 0.8453446509745882,\n",
       "  'Cricetulus longicaudatus': 1.486079397912594},\n",
       " 'Cricetulus griseus': {'Sciurus aberti': 0.9708441863131418,\n",
       "  'Thomomys bottae': 2.3938057678655302,\n",
       "  'Cricetinae': 0.8453446509745882,\n",
       "  'Cricetulus longicaudatus': 0.15440682390389399},\n",
       " 'Cricetulus longicaudatus': {'Sciurus aberti': 1.2286812142380732,\n",
       "  'Thomomys bottae': 3.4753143887224858,\n",
       "  'Cricetinae': 1.486079397912594,\n",
       "  'Cricetulus griseus': 0.15440682390389399}}"
      ]
     },
     "execution_count": 29,
     "metadata": {},
     "output_type": "execute_result"
    }
   ],
   "source": [
    "create_diff_codon_dict(rodents)"
   ]
  },
  {
   "cell_type": "code",
   "execution_count": 30,
   "id": "d54bc6bc-a130-46ca-9137-bfc9c18b46be",
   "metadata": {},
   "outputs": [
    {
     "data": {
      "image/png": "[encoded data removed]",
      "text/plain": [
       "<Figure size 432x288 with 1 Axes>"
      ]
     },
     "metadata": {
      "needs_background": "light"
     },
     "output_type": "display_data"
    }
   ],
   "source": [
    "# Create matrix of differences\n",
    "diff_dict = create_diff_codon_dict(rodents)\n",
    "\n",
    "# Create Node based tree\n",
    "index_tree = generate_phylogenetic_tree(diff_dict)\n",
    "\n",
    "# Generate PhyloXML file\n",
    "write_tree_xml(index_tree, 'rodent_tree')\n",
    "\n",
    "# Load and visualize phylogenetic tree\n",
    "tree = Phylo.read('rodent_tree.xml', 'phyloxml')\n",
    "tree.ladderize()\n",
    "Phylo.draw(tree)"
   ]
  }
 ],
 "metadata": {
  "kernelspec": {
   "display_name": "Python 3 (ipykernel)",
   "language": "python",
   "name": "python3"
  },
  "language_info": {
   "codemirror_mode": {
    "name": "ipython",
    "version": 3
   },
   "file_extension": ".py",
   "mimetype": "text/x-python",
   "name": "python",
   "nbconvert_exporter": "python",
   "pygments_lexer": "ipython3",
   "version": "3.9.12"
  }
 },
 "nbformat": 4,
 "nbformat_minor": 5
}
