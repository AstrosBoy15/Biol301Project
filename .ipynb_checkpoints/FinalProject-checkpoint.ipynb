{
 "cells": [
  {
   "cell_type": "code",
   "execution_count": null,
   "id": "b466dcce-75bd-4b12-9177-e38831ea7e83",
   "metadata": {},
   "outputs": [],
   "source": [
    "#imports\n",
    "import numpy as np\n",
    "from Bio import Phylo\n",
    "import pandas as pd"
   ]
  },
  {
   "cell_type": "markdown",
   "id": "b36c0417-7703-4f2e-a2c9-bec1fdacbe98",
   "metadata": {},
   "source": [
    "# Background"
   ]
  },
  {
   "cell_type": "markdown",
   "id": "9ce5bdb8-842b-4046-b037-fd7719a0a4ba",
   "metadata": {},
   "source": [
    "The purpose of this project is to investigate if codon bias is an indicator for phylogenetic relationships. If codon bias does prove to be an indicator, this could be used to increase understanding of the relationship between different organisms. A csv file containing the codon bias for many different organisms was taken from Kaggle (source?). TO make the project more manageable, rodents were selected to be the focus on the project. The data was analyzed by creating a data frame and using pandas techniques from BIOL300 such as reading in a file and indexing a data frame. To create a phylogenetic tree, the algorithm UPGMA from BIOL301 was used. "
   ]
  },
  {
   "cell_type": "markdown",
   "id": "b820c426-ee31-42fa-bdef-6b04795ffcc2",
   "metadata": {},
   "source": [
    "# Part 1 - Preparing the Data"
   ]
  },
  {
   "cell_type": "markdown",
   "id": "79dcc258-8afe-4f89-8c96-c8b14837f6c1",
   "metadata": {},
   "source": [
    "First, the csv file must be read into the file as a data frame. This was done using Pandas a skills from BIOL300. "
   ]
  },
  {
   "cell_type": "code",
   "execution_count": null,
   "id": "ad3d4fbe-10ca-42bf-8acc-afadcc6272fe",
   "metadata": {},
   "outputs": [],
   "source": [
    "#read file into a data frame\n",
    "f = open('codon_usage.csv', 'r')\n",
    "df = pd.read_csv(f);"
   ]
  },
  {
   "cell_type": "markdown",
   "id": "c9e57e38-440e-4eae-9b42-b55b1b9160c0",
   "metadata": {},
   "source": [
    "The csv files is quite large, so it was decreased in size to be more manageable. Rodents were selected as the subject of this study, so all animals labeled as in the rodent kingdom were added to a new data frame. Then, since this data included codon bias for mitochondrial DNA, that was also removed to limit the scope of this project. "
   ]
  },
  {
   "cell_type": "code",
   "execution_count": null,
   "id": "9e1cdc78-67f6-48bf-8790-9440cc1e4142",
   "metadata": {},
   "outputs": [],
   "source": [
    "#parse out only columns labeled as 'rod' (rodents)\n",
    "rodents_with_mit = df[df['Kingdom'] == 'rod']\n",
    "\n",
    "#remove the mitocondrial DNA by using the DNAtype column\n",
    "rodents = rodents_with_mit[rodents_with_mit['DNAtype'] == 0]"
   ]
  },
  {
   "cell_type": "code",
   "execution_count": null,
   "id": "d14c5e93-0c08-4df5-95e9-d624fb1d6253",
   "metadata": {},
   "outputs": [],
   "source": [
    "#limit the number of rodents and print out dataframe\n",
    "rodents = rodents[8:13]\n",
    "rodents"
   ]
  },
  {
   "cell_type": "markdown",
   "id": "23be3a8b-18ec-4c71-97d1-2e9bb877c5c8",
   "metadata": {},
   "source": [
    "The csv file contained codon bias across the entire genome. It was decided to normalize these percentages for each amino acid. This removed any amino acid bias between species and focuses just on the codon bias. To accomplish this, a dictionary was created to correlate each codon to a specific amino acid (source?). Multiple checks were performed to make sure all amino acids and codons were present and there were no typos. "
   ]
  },
  {
   "cell_type": "code",
   "execution_count": null,
   "id": "c343b157-81ab-45e8-918c-05ee99fa89c6",
   "metadata": {},
   "outputs": [],
   "source": [
    "#create dictionary of amino acids and corresponding codons\n",
    "aas = {'Phe': ['UUU','UUC'], 'Leu': ['UUA','UUG','CUU','CUC','CUA','CUG'], 'Ile': ['AUU','AUC','AUA'], 'Met': ['AUG'], 'Val': ['GUU','GUC','GUA','GUG'],\n",
    "       'Ser': ['UCU','UCC','UCA','UCG','AGU','AGC'], 'Pro': ['CCU','CCC','CCA','CCG'], 'Thr': ['ACU','ACC','ACA','ACG'], 'Ala': ['GCU','GCC','GCA','GCG'], \n",
    "       'Tyr': ['UAU','UAC'], '***': ['UAA','UAG','UGA'], 'Trp': ['UGG'], 'His': ['CAU','CAC'], 'Gln': ['CAA','CAG'], 'Asn': ['AAU','AAC'], 'Lys': ['AAA','AAG'],\n",
    "       'Cys': ['UGU','UGC'], 'Arg': ['CGU','CGC','CGA','CGG','AGA','AGG'], 'Gly': ['GGU','GGC','GGA','GGG'], 'Asp': ['GAU','GAC'], 'Glu': ['GAA','GAG']}"
   ]
  },
  {
   "cell_type": "code",
   "execution_count": null,
   "id": "2897a12f-8e60-4f73-aa74-099a5a616326",
   "metadata": {},
   "outputs": [],
   "source": [
    "#check that all amino acids are in dictionary (20+stop = 21)\n",
    "len(aas)"
   ]
  },
  {
   "cell_type": "code",
   "execution_count": null,
   "id": "7ed60867-077b-44d9-a418-14fd02db359d",
   "metadata": {},
   "outputs": [],
   "source": [
    "#check that all codons are included in dictionary (should be 64)\n",
    "count = 0\n",
    "for i in aas:\n",
    "    count += len(aas[i])\n",
    "    \n",
    "print(count)"
   ]
  },
  {
   "cell_type": "markdown",
   "id": "82d86cca-b4aa-4c1c-809a-249f99d55eca",
   "metadata": {},
   "source": [
    "Once the dictionary was completed and checked, it was used to standardize by amino acid. By iterating through the dictionary, it was established how often each codon was used to create a certain amino acid for each animal. These new percentages were then added to the data frame, replacing the former percentages which accounted for the whole genome. The data frame was then printed to make sure the data frame was updated"
   ]
  },
  {
   "cell_type": "code",
   "execution_count": null,
   "id": "ee499571-c1be-4e33-b508-cf48890d3fec",
   "metadata": {},
   "outputs": [],
   "source": [
    "#standarize by amino acid\n",
    "\n",
    "#loop through each animal\n",
    "for animal in rodents['SpeciesName']:\n",
    "    species_bool = rodents['SpeciesName'] == animal\n",
    "    species = rodents[species_bool]\n",
    "    \n",
    "    #loop through all amino acids\n",
    "    for aa in aas:\n",
    "        #initalize total percent of amino acid\n",
    "        total = 0 \n",
    "        \n",
    "        #loop through codons and add up percentages\n",
    "        for codon in aas[aa]:\n",
    "            total += species[codon]\n",
    "        \n",
    "        #loop through codons, normalize by amino acid, and replace in data frame\n",
    "        for codon in aas[aa]:\n",
    "            rodents.loc[species_bool, [codon]] = species[codon]/total"
   ]
  },
  {
   "cell_type": "code",
   "execution_count": null,
   "id": "947bc2b3-f1f6-4539-b8a9-782fd7483b62",
   "metadata": {},
   "outputs": [],
   "source": [
    "#print rodents to make sure it updated \n",
    "rodents"
   ]
  },
  {
   "cell_type": "markdown",
   "id": "31b8ab10-1c7d-4600-a11e-99d93db38560",
   "metadata": {},
   "source": [
    "Once the data was cleaned and standardized by amino acid, a distance function was created to determine the distance between two species. It was decided to use a sum of squares. The squared difference between each codon was added together and the total difference returned to determine how different codon bias between species is."
   ]
  },
  {
   "cell_type": "code",
   "execution_count": null,
   "id": "11d77279-d24a-4bea-9645-87dced264010",
   "metadata": {},
   "outputs": [],
   "source": [
    "def species_diff(df, species1, species2):\n",
    "    # finds the difference between the codon bias of two species\n",
    "    \n",
    "    # step a counting value to 0\n",
    "    diff = 0\n",
    "    \n",
    "    animal1 = df[df['SpeciesName'] == species1]\n",
    "    animal2 = df[df['SpeciesName'] == species2]\n",
    "    \n",
    "    #loop through all amino acids\n",
    "    for aa in aas:\n",
    "        #loop through all codons\n",
    "        for codon in aas[aa]:\n",
    "            #add the squared difference between the species codon bias squared\n",
    "            diff += (animal1[codon].values[0] - animal2[codon].values[0])**2\n",
    "    \n",
    "    #return the total difference between two speices\n",
    "    return diff         "
   ]
  },
  {
   "cell_type": "markdown",
   "id": "f2594c26-5741-47bb-809d-b8d74b0c8089",
   "metadata": {},
   "source": [
    "# Part 2 - UPGMA"
   ]
  },
  {
   "cell_type": "markdown",
   "id": "3c8ffc50-340b-430c-b62f-a47d03b98f41",
   "metadata": {},
   "source": [
    "Now, the UPGMA algorithm must be implemented. We started with the algorithm developed in class. However, this version did not take into account edge weights when making the final tree, which we wanted to include. So, a simple Node class was created which could store all of this data. The left and right variables store tuples that point to the child node and the distance between the two nodes."
   ]
  },
  {
   "cell_type": "code",
   "execution_count": null,
   "id": "a480c431-1f3a-40b8-8df8-e21a029f6e20",
   "metadata": {},
   "outputs": [],
   "source": [
    "class Node:\n",
    "    def __init__(self):\n",
    "        self.left = None\n",
    "        self.right = None\n",
    "        self.val = None"
   ]
  },
  {
   "cell_type": "markdown",
   "id": "7bfb595b",
   "metadata": {},
   "source": [
    "To test that the edge weights worked, the example from class was used. This uses sequences instead of codon bias, so we must first define a difference function for sequences. This function assumes that the sequences are the same length which is a safe assumption since this is just being used to test phylogenetic tree formation and not generalized to other sequences"
   ]
  },
  {
   "cell_type": "code",
   "execution_count": null,
   "id": "be81063c-773d-41ca-9a5a-330d146ea277",
   "metadata": {},
   "outputs": [],
   "source": [
    "def differences(seq1, seq2):\n",
    "    '''Counts the number of pairwise differences between\n",
    "    two sequences'''\n",
    "    \n",
    "    #set count variable to zero\n",
    "    count = 0\n",
    "    \n",
    "    #loop through the first sequence\n",
    "    for i in range(len(seq1)):\n",
    "        \n",
    "        #if the amino acids don't match, increase the count variable by one\n",
    "        if seq1[i] != seq2[i]:\n",
    "            count += 1\n",
    "\n",
    "    #once the entire sequence has been checked, return the count variable        \n",
    "    return count"
   ]
  },
  {
   "cell_type": "markdown",
   "id": "08cb612b",
   "metadata": {},
   "source": [
    "Next, all of the hemoglobin sequences must be defined. This information was taken from the notebook used in class"
   ]
  },
  {
   "cell_type": "code",
   "execution_count": null,
   "id": "bea07c81-79c4-4e66-8f13-2481a8f55a4a",
   "metadata": {},
   "outputs": [],
   "source": [
    "human =   \"MVLSPADKTNVKAAWGKVGAHAGEYGAEALERMFLSFPTTKTYFPHF.DLSHGSAQVKGHGKKVADALTNAVAHVDDMPNALSALSDLHAHKLRVDPVNFKLLSHCLLVTLAAHLPAEFTPAVHASLDKFLASVSTVLTSKYR\"\n",
    "chimp =   \"MVLSPADKTNVKAAWGKVGAHAGEYGAEALERMFLSFPTTKTYFPHF.DLSHGSAQVKGHGKKVADALTNAVAHVDDMPNALSALSDLHAHKLRVDPVNFKLLSHCLLVTLAAHLPAEFTPAVHASLDKFLASVSTVLTSKYR\"\n",
    "gorilla = \".VLSPADKTNVKAAWGKVGAHAGDYGAEALERMFLSFPTTKTYFPHF.DLSHGSAQVKGHGKKVADALTNAVAHVDDMPNALSALSDLHAHKLRVDPVNFKLLSHCLLVTLAAHLPAEFTPAVHASLDKFLASVSTVLTSKYR\"\n",
    "cow =     \"MVLSAADKGNVKAAWGKVGGHAAEYGAEALERMFLSFPTTKTYFPHF.DLSHGSAQVKGHGAKVAAALTKAVEHLDDLPGALSELSDLHAHKLRVDPVNFKLLSHSLLVTLASHLPSDFTPAVHASLDKFLANVSTVLTSKYR\"\n",
    "horse =   \"MVLSAADKTNVKAAWSKVGGHAGEYGAEALERMFLGFPTTKTYFPHF.DLSHGSAQVKAHGKKVGDALTLAVGHLDDLPGALSNLSDLHAHKLRVDPVNFKLLSHCLLSTLAVHLPNDFTPAVHASLDKFLSSVSTVLTSKYR\"  \n",
    "donkey =  \"MVLSAADKTNVKAAWSKVGGNAGEFGAEALERMFLGFPTTKTYFPHF.DLSHGSAQVKAHGKKVGDALTLAVGHLDDLPGALSNLSDLHAHKLRVDPVNFKLLSHCLLSTLAVHLPNDFTPAVHASLDKFLSTVSTVLTSKYR\" \n",
    "rabbit =  \".VLSPADKTNIKTAWEKIGSHGGEYGAEAVERMFLGFPTTKTYFPHF.DFTHGSZQIKAHGKKVSEALTKAVGHLDDLPGALSTLSDLHAHKLRVDPVNFKLLSHCLLVTLANHHPSEFTPAVHASLDKFLANVSTVLTSKYR\"\n",
    "carp =    \"MSLSDKDKAAVKGLWAKISPKADDIGAEALGRMLTVYPQTKTYFAHWADLSPGSGPVKKHGKVIMGAVGDAVSKIDDLVGGLAALSELHAFKLRVDPANFKILAHNVIVVIGMLYPGDFPPEVHMSVDKFFQNLALALSEKYR\""
   ]
  },
  {
   "cell_type": "markdown",
   "id": "41592359",
   "metadata": {},
   "source": [
    "A list of all of the hemoglobin sequences and a list of all of the nodes must be created so they can be used later on to find differences and to create the phenogenetic tree"
   ]
  },
  {
   "cell_type": "code",
   "execution_count": null,
   "id": "4014e115-a6bc-4cbd-8c69-87f0404237ff",
   "metadata": {},
   "outputs": [],
   "source": [
    "#create list of all hemoglobin sequences\n",
    "animals = [carp, cow, donkey, horse, human, gorilla, rabbit]\n",
    "\n",
    "#create list of all animal names and string to be used as nodes\n",
    "nodes = [\"carp\", \"cow\", \"donkey\", \"horse\", \"human\", \"gorilla\", \"rabbit\"]"
   ]
  },
  {
   "cell_type": "markdown",
   "id": "9eeaab33",
   "metadata": {},
   "source": [
    "Then, a dictionary of all of the differences between each animal must be created. To do this, a function was created which took in the lists created above. It takes in the hemoglobin sequences and the list of animal names. Then, it uses the difference function above to determine the difference between each animal pair. Finally, it adds each animal pair to the difference dictionary and returns the dictionary"
   ]
  },
  {
   "cell_type": "code",
   "execution_count": null,
   "id": "e9ec439f-0f20-4627-a652-9f48f826ba38",
   "metadata": {},
   "outputs": [],
   "source": [
    "def create_diff_dict(animals, nodes):\n",
    "    '''Creates a matrix of differences between the given species.\n",
    "    Stored in a dictionary of dictionary based on the indices of \n",
    "    the provided list.'''\n",
    "    \n",
    "    # Initialize difference matrix\n",
    "    diff_dict = {}\n",
    "    \n",
    "    # Loop over all the animal pairs to find their differences\n",
    "    for i, animal1 in enumerate(nodes):\n",
    "        for j, animal2 in enumerate(nodes):\n",
    "            \n",
    "            # Don't check animals against themselves\n",
    "            if(animal1 == animal2):\n",
    "                continue\n",
    "                \n",
    "            diff = differences(animals[i], animals[j])\n",
    "            \n",
    "            # Update difference matrix with distance calculated\n",
    "            if(not animal1 in diff_dict):\n",
    "                diff_dict[animal1] = {}\n",
    "\n",
    "            if(not animal2 in diff_dict):\n",
    "                diff_dict[animal2] = {}\n",
    "\n",
    "            diff_dict[animal1][animal2] = diff\n",
    "            diff_dict[animal2][animal1] = diff\n",
    "    \n",
    "    # Return difference matrix\n",
    "    return diff_dict"
   ]
  },
  {
   "cell_type": "code",
   "execution_count": null,
   "id": "1173adb4-a123-453c-9166-253d750de888",
   "metadata": {},
   "outputs": [],
   "source": [
    "create_diff_dict(animals, nodes)"
   ]
  },
  {
   "cell_type": "markdown",
   "id": "beb4c879-fa01-4fdb-8f6d-5c40ad390fc1",
   "metadata": {},
   "source": [
    "Next, we need a function to find the closest two nodes that should be combined via the UPGMA algorithm"
   ]
  },
  {
   "cell_type": "code",
   "execution_count": null,
   "id": "bc391d05-5371-4af5-9962-068f956a97c8",
   "metadata": {},
   "outputs": [],
   "source": [
    "def pair_group(diff_dict):\n",
    "    \"\"\" given a matrix of differences, returns the indices of the closest two related organisms\"\"\"\n",
    "    \n",
    "    # Initialize what we're keeping track of\n",
    "    min_val = np.inf\n",
    "    index_1 = 0\n",
    "    index_2 = 0\n",
    "    \n",
    "    # Loop over the distance matrix\n",
    "    for i in diff_dict.keys():\n",
    "        for j in diff_dict[i].keys():\n",
    "            \n",
    "            # Update our variables if we find a new minimum\n",
    "            if diff_dict[i][j] < min_val:\n",
    "                min_val = diff_dict[i][j]\n",
    "                index_1 = i\n",
    "                index_2 = j\n",
    "    \n",
    "    # Return the pair of indices that have the lowest score as a tuple\n",
    "    return (index_1, index_2)"
   ]
  },
  {
   "cell_type": "code",
   "execution_count": null,
   "id": "589bcc22-d967-4e4d-8138-d641939f5621",
   "metadata": {},
   "outputs": [],
   "source": [
    "pair_group(create_diff_dict(animals, nodes))"
   ]
  },
  {
   "cell_type": "markdown",
   "id": "2e89e52f-922c-4653-a262-2c4e9cb2a71a",
   "metadata": {},
   "source": [
    "Since UPGMA looks at weighted averages, we need to figure out what the weight is of each node being combined. This function recursively loops over a tuple to count the total number of nodes stored in it."
   ]
  },
  {
   "cell_type": "code",
   "execution_count": null,
   "id": "2d2e2fb2-983f-4c30-b68d-c84c832f2c13",
   "metadata": {
    "tags": []
   },
   "outputs": [],
   "source": [
    "def calculate_weight(tup):\n",
    "    '''Determine number of items in a nested tuple'''\n",
    "    \n",
    "    # Base case\n",
    "    if(type(tup) != tuple):\n",
    "        return 1\n",
    "    \n",
    "    num_values = 0\n",
    "    \n",
    "    # Loop over the tuple and unpack it based on its contents\n",
    "    for i in tup:\n",
    "        \n",
    "        # Recursively determine weight if the item is another tuple\n",
    "        if type(i) == tuple:\n",
    "            num_values += calculate_weight(i)\n",
    "            \n",
    "        # Add 1 if the item is not a tuple\n",
    "        else:\n",
    "            num_values += 1\n",
    "    \n",
    "    # Return weight of tuple\n",
    "    return num_values"
   ]
  },
  {
   "cell_type": "code",
   "execution_count": null,
   "id": "d3821955-ca1a-4085-9e0b-e0209ea0627c",
   "metadata": {},
   "outputs": [],
   "source": [
    "calculate_weight(((5, (3, 2)), ((1, 6), 5)))"
   ]
  },
  {
   "cell_type": "markdown",
   "id": "46aa0c3e-047c-44eb-864d-ff3800753fb8",
   "metadata": {},
   "source": [
    "UPGMA determines edge weights to the farthest node in a node group but we just want to update the edge weight between the new node and the node group as a whole. So, we need to figure out what the distance of the node group is in order to do this. Since all of the nodes will end up the same distance away from the root node, we only need to check one path to find the furthest node"
   ]
  },
  {
   "cell_type": "code",
   "execution_count": null,
   "id": "cc9773e5-74db-4257-9649-71a308a1ab43",
   "metadata": {},
   "outputs": [],
   "source": [
    "def get_distance_to_farthest_node(root):\n",
    "    '''Gets the linear distance from a node to its furthest child'''\n",
    "    \n",
    "    # Base case\n",
    "    if(root.right == None):\n",
    "        return 0\n",
    "    \n",
    "    # Return the distance between this node and its child\n",
    "    return root.right[1] + get_distance_to_farthest_node(root.right[0])"
   ]
  },
  {
   "cell_type": "code",
   "execution_count": null,
   "id": "50fc26dc-17f4-4627-b421-ab809fbec384",
   "metadata": {},
   "outputs": [],
   "source": [
    "root = Node()\n",
    "root.right = (Node(), 5)\n",
    "root.right[0].right = (Node(), 7)\n",
    "root.right[0].right[0].right = (Node(), 10)\n",
    "\n",
    "get_distance_to_farthest_node(root)"
   ]
  },
  {
   "cell_type": "markdown",
   "id": "c9bb619d-ffe0-48ff-a125-ddb6bd3b30f3",
   "metadata": {},
   "source": [
    "Now we're ready to apply our UPGMA algorithm to a matrix of differences. We first start by creating a dictionary of the base nodes so that our tree is a binary tree at the end. Then, we proceed by combining nodes into pair groups until there is only one node left which is the root of our phylogenetic tree."
   ]
  },
  {
   "cell_type": "code",
   "execution_count": null,
   "id": "f5f39093-4af1-4a00-b265-2b998eb26b88",
   "metadata": {},
   "outputs": [],
   "source": [
    "def generate_phylogenetic_tree(diff_dict):\n",
    "    '''Creates a phylogentic tree from a list of sequences'''\n",
    "    \n",
    "    # Create the dictionary of nodes for the phylogentic tree creation\n",
    "    node_dict = {}\n",
    "\n",
    "    for species in diff_dict:\n",
    "        node = Node()\n",
    "        node.val = species\n",
    "        node_dict[species] = node\n",
    "\n",
    "    # Apply UPGMA until all nodes have been combined\n",
    "    while(len(diff_dict.keys()) > 1):\n",
    "        \n",
    "        # Get the two most related nodes\n",
    "        (animal_1, animal_2) = pair_group(diff_dict)\n",
    "        \n",
    "        # Add a new row for the new node\n",
    "        new_group = (animal_1, animal_2)\n",
    "        diff_dict[new_group] = {}\n",
    "        \n",
    "        # Get the distance between these two nodes\n",
    "        distance = diff_dict[animal_1][animal_2]\n",
    "        \n",
    "        # Create a new Node representing the new group being formed. Include the edge weight between the nodes\n",
    "        node = Node()\n",
    "        node.val = new_group\n",
    "        node.left = (node_dict[animal_1], distance / 2 - get_distance_to_farthest_node(node_dict[animal_1]))\n",
    "        node.right = (node_dict[animal_2], distance / 2 - get_distance_to_farthest_node(node_dict[animal_2]))\n",
    "        \n",
    "        # Remove the old nodes and add the new ones to the node dictionary\n",
    "        node_dict.pop(animal_1)\n",
    "        node_dict.pop(animal_2)\n",
    "        node_dict[new_group] = node\n",
    "        \n",
    "        # Delete node pairs from the distance matrix\n",
    "        diff_dict[animal_1].pop(animal_2)\n",
    "        diff_dict[animal_2].pop(animal_1)\n",
    "\n",
    "        # Calculate the weights for the arithmetic mean\n",
    "        weight1 = calculate_weight(animal_1)\n",
    "        weight2 = calculate_weight(animal_2)\n",
    "\n",
    "        # Populate new node's row\n",
    "        for i in diff_dict[animal_1].keys():\n",
    "            diff_dict[new_group][i] = (weight1 * diff_dict[animal_1][i] + weight2 * diff_dict[animal_2][i]) / (weight1 + weight2)\n",
    "\n",
    "        # Delete old node's rows\n",
    "        diff_dict.pop(animal_1)\n",
    "        diff_dict.pop(animal_2)\n",
    "\n",
    "        # Update remaining nodes' distances to the newly added node and delete the remaining\n",
    "        # references to the old nodes\n",
    "        for i in diff_dict.keys():\n",
    "            if(i != new_group):\n",
    "                diff_dict[i][new_group] = (weight1 * diff_dict[i][animal_1] + weight2 * diff_dict[i][animal_2]) / (weight1 + weight2)\n",
    "                \n",
    "                diff_dict[i].pop(animal_1)\n",
    "                diff_dict[i].pop(animal_2)\n",
    "    \n",
    "    # The last created node is the completed tree\n",
    "    return node"
   ]
  },
  {
   "cell_type": "code",
   "execution_count": null,
   "id": "a4418c0e-87ba-47a5-979b-ff1fea1f537c",
   "metadata": {},
   "outputs": [],
   "source": [
    "# Create matrix of differences\n",
    "diff_dict = create_diff_dict(animals, nodes)\n",
    "\n",
    "# Create Node based tree\n",
    "index_tree = generate_phylogenetic_tree(diff_dict)\n",
    "index_tree.val"
   ]
  },
  {
   "cell_type": "markdown",
   "id": "5a57322b-b19b-4eee-9280-946b66d66dd5",
   "metadata": {},
   "source": [
    "Looks like it all still works, so now let's put this data into a visualizable format. We will be using BioPython's Phylo module to display the tree which takes in a PhyloXML file, so we need to put the data into that format using the following two functions."
   ]
  },
  {
   "cell_type": "code",
   "execution_count": null,
   "id": "2ebde38f-25c8-4b8c-ad60-b5d430968ee6",
   "metadata": {},
   "outputs": [],
   "source": [
    "def write_tree_xml(root, filename):\n",
    "    '''Writes a weighted binary tree to a PhyloXML file'''\n",
    "    \n",
    "    # Open the file\n",
    "    with open(filename + '.xml', 'w') as f:\n",
    "        \n",
    "        # Write the necessary header information\n",
    "        f.write('<?xml version=\"1.0\" encoding=\"UTF-8\"?>\\n')\n",
    "        f.write('<phyloxml xmlns:xsi=\"http://www.w3.org/2001/XMLSchema-instance\" xsi:schemaLocation=\"http://www.phyloxml.org http://www.phyloxml.org/1.10/phyloxml.xsd\" xmlns=\"http://www.phyloxml.org\">\\n')\n",
    "        f.write('<phylogeny rooted=\"true\">\\n')\n",
    "        f.write('<clade>')\n",
    "        \n",
    "        # Recursively write each node to the file\n",
    "        write_tree_recursive(root, f)\n",
    "        \n",
    "        # Close off the file\n",
    "        f.write('</clade>\\n')\n",
    "        f.write('</phylogeny>\\n')\n",
    "        f.write('</phyloxml>\\n')"
   ]
  },
  {
   "cell_type": "code",
   "execution_count": null,
   "id": "3f1c265c-4f87-4123-8cb1-7bb173f750fa",
   "metadata": {},
   "outputs": [],
   "source": [
    "def write_tree_recursive(root, f):\n",
    "    ''' Recursively adds clades to the file'''\n",
    "    \n",
    "    # Base case\n",
    "    if(root.right == None):\n",
    "        f.write('<name>' + root.val + '</name>\\n')\n",
    "        return\n",
    "    \n",
    "    # Add a new clade for the left child\n",
    "    f.write('<clade branch_length=\"' + str(root.left[1]) + '\">\\n')\n",
    "    write_tree_recursive(root.left[0], f)\n",
    "    f.write('</clade>\\n')\n",
    "    \n",
    "    # Add a new clade for the right child\n",
    "    f.write('<clade branch_length=\"' + str(root.right[1]) + '\">\\n')\n",
    "    write_tree_recursive(root.right[0], f)\n",
    "    f.write('</clade>\\n')"
   ]
  },
  {
   "cell_type": "code",
   "execution_count": null,
   "id": "a8ca48a2-f205-4aed-b78c-9c7656b21a6b",
   "metadata": {},
   "outputs": [],
   "source": [
    "# Generate PhyloXML file\n",
    "write_tree_xml(index_tree, 'test_tree')\n",
    "\n",
    "# Load and visualize phylogenetic tree\n",
    "tree = Phylo.read('test_tree.xml', 'phyloxml')\n",
    "tree.ladderize()\n",
    "Phylo.draw(tree)"
   ]
  },
  {
   "cell_type": "markdown",
   "id": "e51efda2-e01b-4f2e-9e83-c58db7efbc68",
   "metadata": {},
   "source": [
    "We got the same tree as before, so it seems like its working. We see that gorillas and humans are very closely related, which makes sense. While carp is very distantly related to any of the other species so the edge weights also seem to be working. Next, we need to apply this algorithm to our parsed codon biases."
   ]
  },
  {
   "cell_type": "markdown",
   "id": "5caca769-f6ba-443d-a638-86d673ee3f84",
   "metadata": {},
   "source": [
    "# Part 3 - Creating a Tree of Rodents"
   ]
  },
  {
   "cell_type": "markdown",
   "id": "54c65914-e1c9-4258-b2d5-004faf853168",
   "metadata": {},
   "source": [
    "Now that we have the UPGMA algorithm working, we can now apply it to our parsed rodent data. To do that, we first need a function that can create our differences matrix from a supplied dataframe."
   ]
  },
  {
   "cell_type": "code",
   "execution_count": null,
   "id": "775be81a-febd-41c1-902f-c71b2334fb40",
   "metadata": {},
   "outputs": [],
   "source": [
    "def create_diff_codon_dict(df):\n",
    "    '''Creates a matrix of differences between the species in a \n",
    "    dataframe. Stored in a dictionary of dictionaries based on\n",
    "    the names of the provided species.'''\n",
    "    \n",
    "    # Initialize difference matrix\n",
    "    diff_dict = {}\n",
    "    \n",
    "    # Loop over all the animal pairs to find their differences\n",
    "    for species1 in df['SpeciesName'].unique():\n",
    "        for species2 in df['SpeciesName'].unique():\n",
    "            \n",
    "            # Ignore if the two species are the same\n",
    "            if(species1 == species2):\n",
    "                continue\n",
    "\n",
    "            # Calculate the differences between the two species\n",
    "            diff = species_diff(df, species1, species2)\n",
    "\n",
    "            # Update the differences matrix\n",
    "            if(not species1 in diff_dict):\n",
    "                diff_dict[species1] = {}\n",
    "\n",
    "            if(not species2 in diff_dict):\n",
    "                diff_dict[species2] = {}\n",
    "\n",
    "            diff_dict[species1][species2] = diff\n",
    "            diff_dict[species2][species1] = diff\n",
    "        \n",
    "    # Return the differences matrix\n",
    "    return diff_dict"
   ]
  },
  {
   "cell_type": "code",
   "execution_count": null,
   "id": "aa6500e4-0fbe-4335-9c2b-0a9e0a89dc56",
   "metadata": {},
   "outputs": [],
   "source": [
    "create_diff_codon_dict(rodents)"
   ]
  },
  {
   "cell_type": "code",
   "execution_count": null,
   "id": "d54bc6bc-a130-46ca-9137-bfc9c18b46be",
   "metadata": {},
   "outputs": [],
   "source": [
    "# Create matrix of differences\n",
    "diff_dict = create_diff_codon_dict(rodents)\n",
    "\n",
    "# Create Node based tree\n",
    "index_tree = generate_phylogenetic_tree(diff_dict)\n",
    "\n",
    "# Generate PhyloXML file\n",
    "write_tree_xml(index_tree, 'rodent_tree')\n",
    "\n",
    "# Load and visualize phylogenetic tree\n",
    "tree = Phylo.read('rodent_tree.xml', 'phyloxml')\n",
    "tree.ladderize()\n",
    "Phylo.draw(tree)"
   ]
  },
  {
   "cell_type": "markdown",
   "id": "f9d28043",
   "metadata": {},
   "source": [
    "# Part 4 - Creating Tree of In Class Animals"
   ]
  },
  {
   "cell_type": "markdown",
   "id": "ee9b5735",
   "metadata": {},
   "source": [
    "We've got a tree built with species that are all pretty similar to one another. What happens if we try it with species that are more distantly related? First, a list with the scientific names of each animal in class was created so they could be found in the data frame. Carp was replaced with trout because carp was not in the data frame. It was assumed that the two fish should have a similar relation to the rest of the animals which are all mammals"
   ]
  },
  {
   "cell_type": "code",
   "execution_count": null,
   "id": "da2f4ea8-6a82-4808-9b99-b5380cd4b9dd",
   "metadata": {},
   "outputs": [],
   "source": [
    "#create list of animal scientific names (carp replaced with trout)\n",
    "animals = ['Homo sapiens', 'Gorilla gorilla', 'Oryctolagus cuniculus', 'Bos taurus', 'Equus asinus','Equus caballus', 'Oncorhynchus mykiss'] "
   ]
  },
  {
   "cell_type": "markdown",
   "id": "09ca1967",
   "metadata": {},
   "source": [
    "Next, a data frame had to be created for all of the in-class animals. First, the list of animals was looped through. If it was the first animal, a new data frame was created. If it was no, the new animal was added to the growing data frame using the pd.concat function which combines two data frames. Finally, the data frame was printed out to make sure it had been created properly. This could then be used in future steps"
   ]
  },
  {
   "cell_type": "code",
   "execution_count": null,
   "id": "c9d25318-5d11-42c0-a8a3-c2486a8349ca",
   "metadata": {},
   "outputs": [],
   "source": [
    "#loop through list of animals\n",
    "for animal in animals:\n",
    "    \n",
    "    #if first animal, create new data frame\n",
    "    if animal == animals[0]:\n",
    "        class_animals = df[df['SpeciesName'] == animal]\n",
    "        \n",
    "    #otherwise, add the new animal to the growing data frame\n",
    "    else: \n",
    "        class_animals = pd.concat([class_animals, df[df['SpeciesName'] == animal]])\n",
    "\n",
    "#print data frame to make sure it is all present\n",
    "class_animals"
   ]
  },
  {
   "cell_type": "markdown",
   "id": "2a933325",
   "metadata": {},
   "source": [
    "The codon bias was standardized by amino acid. This was done in the same fashion as previously to create a data frame with codon bias for each amino acid"
   ]
  },
  {
   "cell_type": "code",
   "execution_count": null,
   "id": "d99b8783-cf1a-42ab-9adb-d15d4e7349f6",
   "metadata": {},
   "outputs": [],
   "source": [
    "#loop through each animal\n",
    "for animal in class_animals['SpeciesName']:\n",
    "    species_bool = class_animals['SpeciesName'] == animal\n",
    "    species =  class_animals[species_bool]\n",
    "    \n",
    "    #loop through all amino acids\n",
    "    for aa in aas:\n",
    "        \n",
    "        #initalize total percent of amino acid\n",
    "        total = 0 \n",
    "        \n",
    "        #loop through codons and add up percentages\n",
    "        for codon in aas[aa]:\n",
    "            total += species[codon]\n",
    "        \n",
    "        #loop through codons, normalize by amino acid, and replace in data frame\n",
    "        for codon in aas[aa]:\n",
    "             class_animals.loc[species_bool, [codon]] = species[codon]/total"
   ]
  },
  {
   "cell_type": "code",
   "execution_count": null,
   "id": "77fd4eab-559f-4038-b3f4-0f94b860d93d",
   "metadata": {},
   "outputs": [],
   "source": [
    "#print the data frame to make sure each codon column has been correctly updated\n",
    "class_animals"
   ]
  },
  {
   "cell_type": "markdown",
   "id": "410d05fd",
   "metadata": {},
   "source": [
    "Once the data frame has been correctly created, it can be used to create a difference dictionary. This was done using the previously defined create_diff_codon_dict function. "
   ]
  },
  {
   "cell_type": "code",
   "execution_count": null,
   "id": "5ecf2b99-2feb-4740-bba2-172a8cbe2f63",
   "metadata": {},
   "outputs": [],
   "source": [
    "#create dictionary of difference for class animals\n",
    "create_diff_codon_dict(class_animals)"
   ]
  },
  {
   "cell_type": "markdown",
   "id": "c722bbaa",
   "metadata": {},
   "source": [
    "Finally, a tree can be created of all of the animals used in class. This was done the same was as previously done. "
   ]
  },
  {
   "cell_type": "code",
   "execution_count": null,
   "id": "a64b8cb2-76d3-46af-bf11-e5449354c5e2",
   "metadata": {},
   "outputs": [],
   "source": [
    "# Create matrix of differences\n",
    "diff_dict = create_diff_codon_dict(class_animals)\n",
    "\n",
    "# Create Node based tree\n",
    "index_tree = generate_phylogenetic_tree(diff_dict)\n",
    "\n",
    "# Generate PhyloXML file\n",
    "write_tree_xml(index_tree, 'animal_tree')\n",
    "\n",
    "# Load and visualize phylogenetic tree\n",
    "tree = Phylo.read('animal_tree.xml', 'phyloxml')\n",
    "tree.ladderize()\n",
    "Phylo.draw(tree)"
   ]
  },
  {
   "cell_type": "markdown",
   "id": "f6589dfb-ba8d-4380-9c3c-bdd618153169",
   "metadata": {},
   "source": [
    "# Results and Discussion"
   ]
  },
  {
   "cell_type": "markdown",
   "id": "a8744a75",
   "metadata": {},
   "source": []
  },
  {
   "cell_type": "markdown",
   "id": "a321d8ae-d9d9-475d-a496-eff1711a48db",
   "metadata": {},
   "source": [
    "# Next Steps"
   ]
  },
  {
   "cell_type": "markdown",
   "id": "925154d9",
   "metadata": {},
   "source": [
    "Future steps in this project could explore this method with a larger data set to confirm if the results hold true. The mitocondiral data could be used to see if that would be able to create a more accurate phenogenetic tree. Mitocondrial DNA could also be compared to bacteria to track the relationship between mitocondria and modern bacteria. Finally, the discripancies in the tree created could be explored to determine the cause of the discripancies"
   ]
  },
  {
   "cell_type": "markdown",
   "id": "9b06b6f2",
   "metadata": {},
   "source": []
  }
 ],
 "metadata": {
  "kernelspec": {
   "display_name": "Python 3 (ipykernel)",
   "language": "python",
   "name": "python3"
  },
  "language_info": {
   "codemirror_mode": {
    "name": "ipython",
    "version": 3
   },
   "file_extension": ".py",
   "mimetype": "text/x-python",
   "name": "python",
   "nbconvert_exporter": "python",
   "pygments_lexer": "ipython3",
   "version": "3.9.12"
  },
  "vscode": {
   "interpreter": {
    "hash": "f20dff440aef99150ae1941fcd47b7a44774f1da83e43ded31b3d09df4d38de2"
   }
  }
 },
 "nbformat": 4,
 "nbformat_minor": 5
}
